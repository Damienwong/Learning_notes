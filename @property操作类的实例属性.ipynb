{
 "cells": [
  {
   "cell_type": "code",
   "execution_count": 12,
   "id": "a677e919",
   "metadata": {},
   "outputs": [
    {
     "name": "stdout",
     "output_type": "stream",
     "text": [
      "Anzhou: 1\n"
     ]
    }
   ],
   "source": [
    "class Student():\n",
    "    def __init__(self, name, age):\n",
    "        self.__name = name\n",
    "        self.__age = age\n",
    "    \n",
    "    # property作用1：将方法加入@property后，这个方法相当于一个属性，这个属性可以被用户使用，而且用户无法随意修改。\n",
    "    @property\n",
    "    def age(self):\n",
    "        return self.__age\n",
    "    \n",
    "    # perperty作用2：可以用于设置属性，并在设置属性时触发相关的验证等功能。\n",
    "    @age.setter\n",
    "    def age(self, value):\n",
    "        if not isinstance(value, int):\n",
    "            raise ValueError('age must be a integer')\n",
    "        elif value < 0 or value > 100:\n",
    "            raise ValueError('age must be between 0 and 100!')\n",
    "        else:\n",
    "            self.__age = value\n",
    "            \n",
    "    def print_info(self):\n",
    "        print(f'{self.__name}: {self.__age}')\n",
    "        \n",
    "if __name__ == \"__main__\":\n",
    "    s = Student('Anzhou', 1)\n",
    "    s.age = 1\n",
    "    s.print_info()"
   ]
  },
  {
   "cell_type": "code",
   "execution_count": 13,
   "id": "c8ceb88f",
   "metadata": {},
   "outputs": [
    {
     "data": {
      "text/plain": [
       "1"
      ]
     },
     "execution_count": 13,
     "metadata": {},
     "output_type": "execute_result"
    }
   ],
   "source": [
    "s.age"
   ]
  },
  {
   "cell_type": "code",
   "execution_count": null,
   "id": "d0f866ef",
   "metadata": {},
   "outputs": [],
   "source": []
  }
 ],
 "metadata": {
  "kernelspec": {
   "display_name": "Python 3 (ipykernel)",
   "language": "python",
   "name": "python3"
  },
  "language_info": {
   "codemirror_mode": {
    "name": "ipython",
    "version": 3
   },
   "file_extension": ".py",
   "mimetype": "text/x-python",
   "name": "python",
   "nbconvert_exporter": "python",
   "pygments_lexer": "ipython3",
   "version": "3.10.11"
  }
 },
 "nbformat": 4,
 "nbformat_minor": 5
}
