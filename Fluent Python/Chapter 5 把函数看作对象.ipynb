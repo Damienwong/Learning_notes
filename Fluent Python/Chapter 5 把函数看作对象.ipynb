{
 "cells": [
  {
   "cell_type": "markdown",
   "id": "6854185b",
   "metadata": {},
   "source": [
    "## 高阶函数\n",
    "\n",
    "接受函数为参数，或者把函数作为结果返回的函数是**高阶函数**(high-order function)。"
   ]
  },
  {
   "cell_type": "code",
   "execution_count": 2,
   "id": "645143f1",
   "metadata": {},
   "outputs": [
    {
     "data": {
      "text/plain": [
       "['El', 'Tom', 'Jack', 'Helen', 'Huimin']"
      ]
     },
     "execution_count": 2,
     "metadata": {},
     "output_type": "execute_result"
    }
   ],
   "source": [
    "# sorted函数，可选的key参数用于提供一个函数，它会应用到各个元素上进行排序\n",
    "names = ['Jack', 'Tom', 'Helen', 'Huimin', 'El']\n",
    "sorted(names, key=len)"
   ]
  },
  {
   "cell_type": "markdown",
   "id": "bd04f762",
   "metadata": {},
   "source": [
    "## 匿名函数\n",
    "lambda关键字在Python表达式内创建匿名函数。"
   ]
  },
  {
   "cell_type": "code",
   "execution_count": 8,
   "id": "abae3fcb",
   "metadata": {},
   "outputs": [
    {
     "data": {
      "text/plain": [
       "'noskcaj'"
      ]
     },
     "execution_count": 8,
     "metadata": {},
     "output_type": "execute_result"
    }
   ],
   "source": [
    "'jackson'[::-1]"
   ]
  },
  {
   "cell_type": "code",
   "execution_count": 9,
   "id": "c773cb45",
   "metadata": {},
   "outputs": [
    {
     "data": {
      "text/plain": [
       "['Jack', 'El', 'Tom', 'Helen', 'Huimin']"
      ]
     },
     "execution_count": 9,
     "metadata": {},
     "output_type": "execute_result"
    }
   ],
   "source": [
    "names = ['Jack', 'Tom', 'Helen', 'Huimin', 'El']\n",
    "sorted(names, key=lambda word: word[::-1])"
   ]
  },
  {
   "cell_type": "markdown",
   "id": "01cf27db",
   "metadata": {},
   "source": [
    "## 用户定义的可调用类型"
   ]
  },
  {
   "cell_type": "code",
   "execution_count": 5,
   "id": "763ad36d",
   "metadata": {},
   "outputs": [],
   "source": [
    "import random\n",
    "\n",
    "class BingoCage:\n",
    "    def __init__(self, items):\n",
    "        self._items = list(items)\n",
    "        random.shuffle(self._items)\n",
    "        \n",
    "    def pick(self):\n",
    "        try:\n",
    "            return self._items.pop()\n",
    "        except IndexError:\n",
    "            raise LookupError('pick from empty BingoCage')\n",
    "            \n",
    "    def __call__(self):\n",
    "        return self.pick()\n",
    "    \n",
    "# 通过实现实例方法 __call__ ，使得bingo实例可以作为函数调用"
   ]
  },
  {
   "cell_type": "code",
   "execution_count": 6,
   "id": "0e833299",
   "metadata": {},
   "outputs": [],
   "source": [
    "bingo = BingoCage(range(3))"
   ]
  },
  {
   "cell_type": "code",
   "execution_count": 7,
   "id": "412560af",
   "metadata": {},
   "outputs": [
    {
     "data": {
      "text/plain": [
       "0"
      ]
     },
     "execution_count": 7,
     "metadata": {},
     "output_type": "execute_result"
    }
   ],
   "source": [
    "bingo.pick()"
   ]
  },
  {
   "cell_type": "code",
   "execution_count": 8,
   "id": "0fe0e937",
   "metadata": {},
   "outputs": [
    {
     "data": {
      "text/plain": [
       "2"
      ]
     },
     "execution_count": 8,
     "metadata": {},
     "output_type": "execute_result"
    }
   ],
   "source": [
    "bingo()"
   ]
  },
  {
   "cell_type": "code",
   "execution_count": 9,
   "id": "792211dc",
   "metadata": {},
   "outputs": [
    {
     "data": {
      "text/plain": [
       "True"
      ]
     },
     "execution_count": 9,
     "metadata": {},
     "output_type": "execute_result"
    }
   ],
   "source": [
    "callable(bingo)  # 使用内置的callable()函数判断对象能否调用"
   ]
  },
  {
   "cell_type": "code",
   "execution_count": 14,
   "id": "a2c61e5f",
   "metadata": {},
   "outputs": [],
   "source": [
    "def factorial(n):\n",
    "    \"\"\"returns n!\"\"\"\n",
    "    return 1 if n < 2 else n * factorial(n-1)"
   ]
  },
  {
   "cell_type": "code",
   "execution_count": 15,
   "id": "7d5d775e",
   "metadata": {},
   "outputs": [
    {
     "data": {
      "text/plain": [
       "120"
      ]
     },
     "execution_count": 15,
     "metadata": {},
     "output_type": "execute_result"
    }
   ],
   "source": [
    "factorial(5)"
   ]
  },
  {
   "cell_type": "code",
   "execution_count": 16,
   "id": "e1808681",
   "metadata": {},
   "outputs": [
    {
     "data": {
      "text/plain": [
       "'returns n!'"
      ]
     },
     "execution_count": 16,
     "metadata": {},
     "output_type": "execute_result"
    }
   ],
   "source": [
    "factorial.__doc__  # __doc__属性用于生成对象的帮助文本。"
   ]
  },
  {
   "cell_type": "code",
   "execution_count": 17,
   "id": "ea8aab71",
   "metadata": {},
   "outputs": [
    {
     "data": {
      "text/plain": [
       "['__annotations__',\n",
       " '__builtins__',\n",
       " '__call__',\n",
       " '__class__',\n",
       " '__closure__',\n",
       " '__code__',\n",
       " '__defaults__',\n",
       " '__delattr__',\n",
       " '__dict__',\n",
       " '__dir__',\n",
       " '__doc__',\n",
       " '__eq__',\n",
       " '__format__',\n",
       " '__ge__',\n",
       " '__get__',\n",
       " '__getattribute__',\n",
       " '__globals__',\n",
       " '__gt__',\n",
       " '__hash__',\n",
       " '__init__',\n",
       " '__init_subclass__',\n",
       " '__kwdefaults__',\n",
       " '__le__',\n",
       " '__lt__',\n",
       " '__module__',\n",
       " '__name__',\n",
       " '__ne__',\n",
       " '__new__',\n",
       " '__qualname__',\n",
       " '__reduce__',\n",
       " '__reduce_ex__',\n",
       " '__repr__',\n",
       " '__setattr__',\n",
       " '__sizeof__',\n",
       " '__str__',\n",
       " '__subclasshook__']"
      ]
     },
     "execution_count": 17,
     "metadata": {},
     "output_type": "execute_result"
    }
   ],
   "source": [
    "dir(factorial)  # 使用dir函数可以探知factorial具有下述属性"
   ]
  },
  {
   "cell_type": "code",
   "execution_count": null,
   "id": "98b6d077",
   "metadata": {},
   "outputs": [],
   "source": []
  }
 ],
 "metadata": {
  "kernelspec": {
   "display_name": "Python 3 (ipykernel)",
   "language": "python",
   "name": "python3"
  },
  "language_info": {
   "codemirror_mode": {
    "name": "ipython",
    "version": 3
   },
   "file_extension": ".py",
   "mimetype": "text/x-python",
   "name": "python",
   "nbconvert_exporter": "python",
   "pygments_lexer": "ipython3",
   "version": "3.10.11"
  }
 },
 "nbformat": 4,
 "nbformat_minor": 5
}
