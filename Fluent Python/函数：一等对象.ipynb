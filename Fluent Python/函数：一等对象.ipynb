{
 "cells": [
  {
   "cell_type": "markdown",
   "id": "9454b832",
   "metadata": {},
   "source": [
    "## 一等对象\n",
    "“一等对象”定义为满足下述条件的程序实体：\n",
    "- 在运行时创建\n",
    "- 能赋值给变量或数据结构中的元素\n",
    "- 能作为参数传给函数\n",
    "- 能作为函数的返回结果"
   ]
  },
  {
   "cell_type": "code",
   "execution_count": 3,
   "id": "720d5746",
   "metadata": {},
   "outputs": [],
   "source": [
    "def factorial(n):\n",
    "    \"\"\"\n",
    "    return n! 返回n的阶乘\n",
    "    \"\"\"\n",
    "    return n if n < 2 else n * factorial(n - 1)"
   ]
  },
  {
   "cell_type": "code",
   "execution_count": 4,
   "id": "a34cfd03",
   "metadata": {},
   "outputs": [
    {
     "data": {
      "text/plain": [
       "120"
      ]
     },
     "execution_count": 4,
     "metadata": {},
     "output_type": "execute_result"
    }
   ],
   "source": [
    "factorial(5)"
   ]
  },
  {
   "cell_type": "code",
   "execution_count": 6,
   "id": "71ca9399",
   "metadata": {},
   "outputs": [
    {
     "data": {
      "text/plain": [
       "'\\n    return n! 返回n的阶乘\\n    '"
      ]
     },
     "execution_count": 6,
     "metadata": {},
     "output_type": "execute_result"
    }
   ],
   "source": [
    "factorial.__doc__  # __doc__属性用于生成对象的帮助文本"
   ]
  },
  {
   "cell_type": "code",
   "execution_count": 8,
   "id": "491796cf",
   "metadata": {},
   "outputs": [
    {
     "data": {
      "text/plain": [
       "function"
      ]
     },
     "execution_count": 8,
     "metadata": {},
     "output_type": "execute_result"
    }
   ],
   "source": [
    "type(factorial)"
   ]
  },
  {
   "cell_type": "code",
   "execution_count": 9,
   "id": "cb550e7f",
   "metadata": {},
   "outputs": [
    {
     "name": "stdout",
     "output_type": "stream",
     "text": [
      "Help on function factorial in module __main__:\n",
      "\n",
      "factorial(n)\n",
      "    return n! 返回n的阶乘\n",
      "\n"
     ]
    }
   ],
   "source": [
    "help(factorial)"
   ]
  },
  {
   "cell_type": "markdown",
   "id": "2052b315",
   "metadata": {},
   "source": [
    "### 函数的“一等”本性"
   ]
  },
  {
   "cell_type": "code",
   "execution_count": 10,
   "id": "a5f1168c",
   "metadata": {},
   "outputs": [],
   "source": [
    "fact = factorial  # 第2条，能赋值给变量"
   ]
  },
  {
   "cell_type": "code",
   "execution_count": 11,
   "id": "71545540",
   "metadata": {},
   "outputs": [
    {
     "data": {
      "text/plain": [
       "<function __main__.factorial(n)>"
      ]
     },
     "execution_count": 11,
     "metadata": {},
     "output_type": "execute_result"
    }
   ],
   "source": [
    "fact"
   ]
  },
  {
   "cell_type": "code",
   "execution_count": 12,
   "id": "114456ba",
   "metadata": {},
   "outputs": [
    {
     "data": {
      "text/plain": [
       "120"
      ]
     },
     "execution_count": 12,
     "metadata": {},
     "output_type": "execute_result"
    }
   ],
   "source": [
    "fact(5)"
   ]
  },
  {
   "cell_type": "code",
   "execution_count": 15,
   "id": "d8c85eda",
   "metadata": {},
   "outputs": [
    {
     "data": {
      "text/plain": [
       "<map at 0x2149ce59810>"
      ]
     },
     "execution_count": 15,
     "metadata": {},
     "output_type": "execute_result"
    }
   ],
   "source": [
    "map(factorial, range(6))  # 第3条，能作为参数传给函数  map函数返回一个可迭代对象"
   ]
  },
  {
   "cell_type": "code",
   "execution_count": 16,
   "id": "dae3484b",
   "metadata": {},
   "outputs": [
    {
     "data": {
      "text/plain": [
       "[0, 1, 2, 6, 24, 120]"
      ]
     },
     "execution_count": 16,
     "metadata": {},
     "output_type": "execute_result"
    }
   ],
   "source": [
    "list(map(factorial, range(6)))"
   ]
  },
  {
   "cell_type": "markdown",
   "id": "4153e985",
   "metadata": {},
   "source": [
    "## 高阶函数\n",
    "\n",
    "接受函数为对象，或者把函数作为结果返回的函数是**高阶函数(higher-order function)**"
   ]
  },
  {
   "cell_type": "markdown",
   "id": "efcf73ef",
   "metadata": {},
   "source": [
    "sorted函数中的key参数用于提供一个参数，应用到各个元素上进行排序"
   ]
  },
  {
   "cell_type": "code",
   "execution_count": 17,
   "id": "6d96f9bc",
   "metadata": {},
   "outputs": [],
   "source": [
    "fruits = ['strawberry', 'fig', 'apple', 'cherry', 'raspberry', 'banana']"
   ]
  },
  {
   "cell_type": "code",
   "execution_count": 18,
   "id": "9cb4f3ec",
   "metadata": {},
   "outputs": [
    {
     "data": {
      "text/plain": [
       "['fig', 'apple', 'cherry', 'banana', 'raspberry', 'strawberry']"
      ]
     },
     "execution_count": 18,
     "metadata": {},
     "output_type": "execute_result"
    }
   ],
   "source": [
    "## 把len函数传给key参数\n",
    "sorted(fruits, key=len)"
   ]
  },
  {
   "cell_type": "code",
   "execution_count": 19,
   "id": "0be6cd06",
   "metadata": {},
   "outputs": [
    {
     "data": {
      "text/plain": [
       "['banana', 'apple', 'fig', 'raspberry', 'strawberry', 'cherry']"
      ]
     },
     "execution_count": 19,
     "metadata": {},
     "output_type": "execute_result"
    }
   ],
   "source": [
    "## 自定义一个函数，作为key参数来排序\n",
    "def reverse(word):\n",
    "    return word[::-1]\n",
    "\n",
    "sorted(fruits, key=reverse)"
   ]
  },
  {
   "cell_type": "markdown",
   "id": "c98e6a9f",
   "metadata": {},
   "source": [
    "## 匿名函数"
   ]
  },
  {
   "cell_type": "code",
   "execution_count": null,
   "id": "79ef72f5",
   "metadata": {},
   "outputs": [],
   "source": []
  }
 ],
 "metadata": {
  "kernelspec": {
   "display_name": "Python 3 (ipykernel)",
   "language": "python",
   "name": "python3"
  },
  "language_info": {
   "codemirror_mode": {
    "name": "ipython",
    "version": 3
   },
   "file_extension": ".py",
   "mimetype": "text/x-python",
   "name": "python",
   "nbconvert_exporter": "python",
   "pygments_lexer": "ipython3",
   "version": "3.11.4"
  }
 },
 "nbformat": 4,
 "nbformat_minor": 5
}
