{
 "cells": [
  {
   "cell_type": "markdown",
   "id": "44a56791",
   "metadata": {},
   "source": [
    "### 多线程守护主线程"
   ]
  },
  {
   "cell_type": "code",
   "execution_count": 4,
   "id": "d2b26002",
   "metadata": {},
   "outputs": [
    {
     "ename": "SyntaxError",
     "evalue": "invalid syntax (<ipython-input-4-0472eb2a42a4>, line 3)",
     "output_type": "error",
     "traceback": [
      "\u001b[0;36m  File \u001b[0;32m\"<ipython-input-4-0472eb2a42a4>\"\u001b[0;36m, line \u001b[0;32m3\u001b[0m\n\u001b[0;31m    capture_thread.daemon = True\u001b[0m\n\u001b[0m                 ^\u001b[0m\n\u001b[0;31mSyntaxError\u001b[0m\u001b[0;31m:\u001b[0m invalid syntax\n"
     ]
    }
   ],
   "source": [
    "import threading\n",
    "capture_thread = threading.Thread(target=capture_tcp_packets, args=('tcp.pcap','eno1')\n",
    "capture_thread.daemon = True\n",
    "capture_thread.start()"
   ]
  },
  {
   "cell_type": "markdown",
   "id": "b2849313",
   "metadata": {},
   "source": [
    "capture_thread.daemon = True这行代码将线程的daemon标志设置为True。这意味着如果主程序退出，线程将被自动终止\n",
    "守护主线程。"
   ]
  },
  {
   "cell_type": "markdown",
   "id": "0d370a7b",
   "metadata": {},
   "source": [
    "### python内部函数\n",
    "在 Python 中，内部函数是在其他函数内部定义的函数。这意味着内部函数只能在其所在的外部函数范围内被访问和调用，而无法在外部函数之外进行访问。"
   ]
  },
  {
   "cell_type": "code",
   "execution_count": 1,
   "id": "e00897dc",
   "metadata": {},
   "outputs": [
    {
     "name": "stdout",
     "output_type": "stream",
     "text": [
      "这是外部函数\n",
      "这是内部函数\n"
     ]
    }
   ],
   "source": [
    "def outer_function():\n",
    "    # 外部函数\n",
    "    def inner_function():\n",
    "        # 内部函数\n",
    "        print(\"这是内部函数\")\n",
    "\n",
    "    print(\"这是外部函数\")\n",
    "    inner_function()  # 在外部函数内调用内部函数\n",
    "\n",
    "outer_function()  # 调用外部函数"
   ]
  },
  {
   "cell_type": "code",
   "execution_count": null,
   "id": "690d8e5d",
   "metadata": {},
   "outputs": [],
   "source": []
  }
 ],
 "metadata": {
  "kernelspec": {
   "display_name": "Python 3 (ipykernel)",
   "language": "python",
   "name": "python3"
  },
  "language_info": {
   "codemirror_mode": {
    "name": "ipython",
    "version": 3
   },
   "file_extension": ".py",
   "mimetype": "text/x-python",
   "name": "python",
   "nbconvert_exporter": "python",
   "pygments_lexer": "ipython3",
   "version": "3.11.4"
  }
 },
 "nbformat": 4,
 "nbformat_minor": 5
}
