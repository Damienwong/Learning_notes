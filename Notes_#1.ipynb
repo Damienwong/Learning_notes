{
 "cells": [
  {
   "cell_type": "markdown",
   "id": "44a56791",
   "metadata": {},
   "source": [
    "- 多线程守护主线程"
   ]
  },
  {
   "cell_type": "code",
   "execution_count": 4,
   "id": "d2b26002",
   "metadata": {},
   "outputs": [
    {
     "ename": "SyntaxError",
     "evalue": "invalid syntax (<ipython-input-4-0472eb2a42a4>, line 3)",
     "output_type": "error",
     "traceback": [
      "\u001b[0;36m  File \u001b[0;32m\"<ipython-input-4-0472eb2a42a4>\"\u001b[0;36m, line \u001b[0;32m3\u001b[0m\n\u001b[0;31m    capture_thread.daemon = True\u001b[0m\n\u001b[0m                 ^\u001b[0m\n\u001b[0;31mSyntaxError\u001b[0m\u001b[0;31m:\u001b[0m invalid syntax\n"
     ]
    }
   ],
   "source": [
    "import threading\n",
    "capture_thread = threading.Thread(target=capture_tcp_packets, args=('tcp.pcap','eno1')\n",
    "capture_thread.daemon = True\n",
    "capture_thread.start()"
   ]
  },
  {
   "cell_type": "markdown",
   "id": "b2849313",
   "metadata": {},
   "source": [
    "capture_thread.daemon = True这行代码将线程的daemon标志设置为True。这意味着如果主程序退出，线程将被自动终止\n",
    "守护主线程。"
   ]
  },
  {
   "cell_type": "code",
   "execution_count": null,
   "id": "fa9cb279",
   "metadata": {},
   "outputs": [],
   "source": []
  }
 ],
 "metadata": {
  "kernelspec": {
   "display_name": "Python 3",
   "language": "python",
   "name": "python3"
  },
  "language_info": {
   "codemirror_mode": {
    "name": "ipython",
    "version": 3
   },
   "file_extension": ".py",
   "mimetype": "text/x-python",
   "name": "python",
   "nbconvert_exporter": "python",
   "pygments_lexer": "ipython3",
   "version": "3.6.9"
  }
 },
 "nbformat": 4,
 "nbformat_minor": 5
}
