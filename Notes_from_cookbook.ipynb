{
 "cells": [
  {
   "cell_type": "markdown",
   "id": "df81f1a2",
   "metadata": {},
   "source": [
    "# 这是一个用来记录知识点的笔记\n"
   ]
  },
  {
   "cell_type": "markdown",
   "id": "38332c5f",
   "metadata": {},
   "source": [
    " ## 1. 读写JSON数据"
   ]
  },
  {
   "cell_type": "markdown",
   "id": "501a45bb",
   "metadata": {},
   "source": [
    "### python数据结构转换为JSON"
   ]
  },
  {
   "cell_type": "code",
   "execution_count": 10,
   "id": "c626bcc6",
   "metadata": {},
   "outputs": [
    {
     "data": {
      "text/plain": [
       "'{\"name\": \"Acme\", \"shares\": 100, \"price\": 542.23}'"
      ]
     },
     "execution_count": 10,
     "metadata": {},
     "output_type": "execute_result"
    }
   ],
   "source": [
    "import json\n",
    "\n",
    "data = {\n",
    "    'name': 'Acme',\n",
    "    'shares': 100,\n",
    "    'price': 542.23\n",
    "}\n",
    "json_str = json.dumps(data)\n",
    "json_str"
   ]
  },
  {
   "cell_type": "markdown",
   "id": "8a8878f3",
   "metadata": {},
   "source": [
    "### JSON编码的字符串转换回Python数据结构"
   ]
  },
  {
   "cell_type": "code",
   "execution_count": 9,
   "id": "3ee15c13",
   "metadata": {},
   "outputs": [
    {
     "data": {
      "text/plain": [
       "{'name': 'Acme', 'shares': 100, 'price': 542.23}"
      ]
     },
     "execution_count": 9,
     "metadata": {},
     "output_type": "execute_result"
    }
   ],
   "source": [
    "data = json.loads(json_str)\n",
    "data"
   ]
  },
  {
   "cell_type": "markdown",
   "id": "199a5a52",
   "metadata": {},
   "source": [
    "## os.walk()方法遍历目录树\n",
    "每次进入一个目录，会返回一个三元组（目录的相对路径，目录下的目录名列表，目录下面的文件名列表）"
   ]
  },
  {
   "cell_type": "code",
   "execution_count": 2,
   "id": "5bf854c0",
   "metadata": {},
   "outputs": [
    {
     "name": "stdout",
     "output_type": "stream",
     "text": [
      "--------------------------------\n",
      "路径 D:\\Codes\\Learning_notes\\graphics\n",
      "目录名列表 ['formats', 'primitive', '__pycache__']\n",
      "文件名列表 ['calibration.dat', 'examp.py', '__init__.py']\n",
      "--------------------------------\n",
      "路径 D:\\Codes\\Learning_notes\\graphics\\formats\n",
      "目录名列表 ['__pycache__']\n",
      "文件名列表 ['calibration.dat', 'jpg.py', 'png.py', '__init__.py', '__main__.py']\n",
      "--------------------------------\n",
      "路径 D:\\Codes\\Learning_notes\\graphics\\formats\\__pycache__\n",
      "目录名列表 []\n",
      "文件名列表 ['jpg.cpython-311.pyc', '__init__.cpython-311.pyc']\n",
      "--------------------------------\n",
      "路径 D:\\Codes\\Learning_notes\\graphics\\primitive\n",
      "目录名列表 ['__pycache__']\n",
      "文件名列表 ['fill.py', 'line.py', 'text.py', '__init__.py']\n",
      "--------------------------------\n",
      "路径 D:\\Codes\\Learning_notes\\graphics\\primitive\\__pycache__\n",
      "目录名列表 []\n",
      "文件名列表 ['line.cpython-311.pyc', 'text.cpython-311.pyc', '__init__.cpython-311.pyc']\n",
      "--------------------------------\n",
      "路径 D:\\Codes\\Learning_notes\\graphics\\__pycache__\n",
      "目录名列表 []\n",
      "文件名列表 ['__init__.cpython-311.pyc']\n"
     ]
    }
   ],
   "source": [
    "import os\n",
    "for relpath, dirs, files in os.walk(r'D:\\Codes\\Learning_notes\\graphics'):\n",
    "    print('--------------------------------')\n",
    "    print('路径', relpath)\n",
    "    print('目录名列表', dirs)\n",
    "    print('文件名列表', files)\n"
   ]
  },
  {
   "cell_type": "code",
   "execution_count": 4,
   "id": "db7242f7",
   "metadata": {},
   "outputs": [
    {
     "data": {
      "text/plain": [
       "'D:\\\\Codes\\\\Learning_notes\\\\A_trial.py'"
      ]
     },
     "execution_count": 4,
     "metadata": {},
     "output_type": "execute_result"
    }
   ],
   "source": [
    "os.path.abspath('./A_trial.py')  # 接受一个路径，可能是相对路径，最后返回绝对路径"
   ]
  },
  {
   "cell_type": "code",
   "execution_count": 6,
   "id": "85ca8094",
   "metadata": {},
   "outputs": [
    {
     "data": {
      "text/plain": [
       "'D:\\\\Codes\\\\Learning_notes\\\\A_trial.py'"
      ]
     },
     "execution_count": 6,
     "metadata": {},
     "output_type": "execute_result"
    }
   ],
   "source": [
    "os.path.normpath('D:\\Codes\\Learning_notes\\\\A_trial.py')"
   ]
  },
  {
   "cell_type": "code",
   "execution_count": 7,
   "id": "447c9bc2",
   "metadata": {},
   "outputs": [],
   "source": [
    "import numpy as np"
   ]
  },
  {
   "cell_type": "code",
   "execution_count": 8,
   "id": "7362c01f",
   "metadata": {},
   "outputs": [
    {
     "data": {
      "text/plain": [
       "8.130102354155978"
      ]
     },
     "execution_count": 8,
     "metadata": {},
     "output_type": "execute_result"
    }
   ],
   "source": [
    "np.rad2deg(np.arctan(0.5 / 3.5))"
   ]
  },
  {
   "cell_type": "code",
   "execution_count": null,
   "id": "0b4174e1",
   "metadata": {},
   "outputs": [],
   "source": []
  }
 ],
 "metadata": {
  "kernelspec": {
   "display_name": "Python 3 (ipykernel)",
   "language": "python",
   "name": "python3"
  },
  "language_info": {
   "codemirror_mode": {
    "name": "ipython",
    "version": 3
   },
   "file_extension": ".py",
   "mimetype": "text/x-python",
   "name": "python",
   "nbconvert_exporter": "python",
   "pygments_lexer": "ipython3",
   "version": "3.11.4"
  }
 },
 "nbformat": 4,
 "nbformat_minor": 5
}
