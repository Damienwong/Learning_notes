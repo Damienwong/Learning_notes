{
 "cells": [
  {
   "cell_type": "markdown",
   "id": "df81f1a2",
   "metadata": {},
   "source": [
    "# 这是一个用来记录知识点的笔记\n"
   ]
  },
  {
   "cell_type": "markdown",
   "id": "38332c5f",
   "metadata": {},
   "source": [
    " ## 1. 读写JSON数据"
   ]
  },
  {
   "cell_type": "markdown",
   "id": "501a45bb",
   "metadata": {},
   "source": [
    "### python数据结构转换为JSON"
   ]
  },
  {
   "cell_type": "code",
   "execution_count": 10,
   "id": "c626bcc6",
   "metadata": {},
   "outputs": [
    {
     "data": {
      "text/plain": [
       "'{\"name\": \"Acme\", \"shares\": 100, \"price\": 542.23}'"
      ]
     },
     "execution_count": 10,
     "metadata": {},
     "output_type": "execute_result"
    }
   ],
   "source": [
    "import json\n",
    "\n",
    "data = {\n",
    "    'name': 'Acme',\n",
    "    'shares': 100,\n",
    "    'price': 542.23\n",
    "}\n",
    "json_str = json.dumps(data)\n",
    "json_str"
   ]
  },
  {
   "cell_type": "markdown",
   "id": "8a8878f3",
   "metadata": {},
   "source": [
    "### JSON编码的字符串转换回Python数据结构"
   ]
  },
  {
   "cell_type": "code",
   "execution_count": 9,
   "id": "3ee15c13",
   "metadata": {},
   "outputs": [
    {
     "data": {
      "text/plain": [
       "{'name': 'Acme', 'shares': 100, 'price': 542.23}"
      ]
     },
     "execution_count": 9,
     "metadata": {},
     "output_type": "execute_result"
    }
   ],
   "source": [
    "data = json.loads(json_str)\n",
    "data"
   ]
  },
  {
   "cell_type": "code",
   "execution_count": 13,
   "id": "28975f3d",
   "metadata": {},
   "outputs": [
    {
     "name": "stdout",
     "output_type": "stream",
     "text": [
      "0\n"
     ]
    }
   ],
   "source": []
  },
  {
   "cell_type": "code",
   "execution_count": null,
   "id": "5bf854c0",
   "metadata": {},
   "outputs": [],
   "source": []
  }
 ],
 "metadata": {
  "kernelspec": {
   "display_name": "Python 3 (ipykernel)",
   "language": "python",
   "name": "python3"
  },
  "language_info": {
   "codemirror_mode": {
    "name": "ipython",
    "version": 3
   },
   "file_extension": ".py",
   "mimetype": "text/x-python",
   "name": "python",
   "nbconvert_exporter": "python",
   "pygments_lexer": "ipython3",
   "version": "3.11.4"
  }
 },
 "nbformat": 4,
 "nbformat_minor": 5
}
