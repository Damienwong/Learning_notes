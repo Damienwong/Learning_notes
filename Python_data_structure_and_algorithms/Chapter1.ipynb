{
 "cells": [
  {
   "cell_type": "code",
   "execution_count": 12,
   "id": "e1890eef",
   "metadata": {},
   "outputs": [],
   "source": [
    "class Fraction:\n",
    "    def __init__(self, top, bottom):\n",
    "        self.num = top\n",
    "        self.den = bottom\n",
    "    \n",
    "    def __str__(self):\n",
    "        return f\"{self.num}/{self.den}\"\n",
    "    \n",
    "    def __eq__(self, other_fraction):\n",
    "        first_num = self.num * other_fraction.den\n",
    "        second_num = other_fraction.num * self.den\n",
    "        return first_num == second_num\n",
    "    \n",
    "    def __add__(self, other_fraction):\n",
    "        new_num = self.num * other_fraction.den + self.den * other_fraction.num\n",
    "        new_den = self.den * other_fraction.den\n",
    "        cmmn = gcd(new_num, new_den)\n",
    "        return Fraction(new_num // cmmn, new_den // cmmn)\n",
    "    \n",
    "    def show(self):\n",
    "        print(f\"{self.num}/{self.den}\")"
   ]
  },
  {
   "cell_type": "code",
   "execution_count": 13,
   "id": "47c3cd17",
   "metadata": {},
   "outputs": [],
   "source": [
    "def gcd(m, n):\n",
    "    \"\"\"\n",
    "    寻找最大公因数（greatest common divisor, GCD）,使用欧几里得算法: 对于整数m和n，如果m能被n整除，那么它们的最大公因数就是n；\n",
    "    如果m不能被n整除，那么结果就是n与m除以n的余数的最大公因数。\n",
    "    \n",
    "    \"\"\"\n",
    "    while m % n != 0:\n",
    "        m, n = n, m % n\n",
    "    return n"
   ]
  },
  {
   "cell_type": "code",
   "execution_count": 14,
   "id": "fd2fab48",
   "metadata": {},
   "outputs": [],
   "source": [
    "my_fraction = Fraction(3, 5)"
   ]
  },
  {
   "cell_type": "code",
   "execution_count": 15,
   "id": "648764bb",
   "metadata": {},
   "outputs": [
    {
     "name": "stdout",
     "output_type": "stream",
     "text": [
      "3/5\n"
     ]
    }
   ],
   "source": [
    "print(my_fraction)"
   ]
  },
  {
   "cell_type": "code",
   "execution_count": 16,
   "id": "36c6a26b",
   "metadata": {},
   "outputs": [
    {
     "name": "stdout",
     "output_type": "stream",
     "text": [
      "I have finished 3/5 of my work.\n"
     ]
    }
   ],
   "source": [
    "print(f'I have finished {my_fraction} of my work.')"
   ]
  },
  {
   "cell_type": "code",
   "execution_count": 17,
   "id": "685c7ed1",
   "metadata": {},
   "outputs": [
    {
     "data": {
      "text/plain": [
       "'3/5'"
      ]
     },
     "execution_count": 17,
     "metadata": {},
     "output_type": "execute_result"
    }
   ],
   "source": [
    "str(my_fraction)"
   ]
  },
  {
   "cell_type": "code",
   "execution_count": 18,
   "id": "92be5fc3",
   "metadata": {},
   "outputs": [],
   "source": [
    "f2 = Fraction(5, 7)"
   ]
  },
  {
   "cell_type": "code",
   "execution_count": 20,
   "id": "2269c249",
   "metadata": {},
   "outputs": [
    {
     "name": "stdout",
     "output_type": "stream",
     "text": [
      "46/35\n"
     ]
    }
   ],
   "source": [
    "print(my_fraction.__add__(f2))"
   ]
  },
  {
   "cell_type": "code",
   "execution_count": 21,
   "id": "7cbb0093",
   "metadata": {},
   "outputs": [
    {
     "data": {
      "text/plain": [
       "False"
      ]
     },
     "execution_count": 21,
     "metadata": {},
     "output_type": "execute_result"
    }
   ],
   "source": [
    "my_fraction.__eq__(f2)"
   ]
  },
  {
   "cell_type": "markdown",
   "id": "637f23b9",
   "metadata": {},
   "source": [
    "## 继承：逻辑门与电路"
   ]
  },
  {
   "cell_type": "markdown",
   "id": "16ea5d30",
   "metadata": {},
   "source": [
    "### 超类"
   ]
  },
  {
   "cell_type": "code",
   "execution_count": 129,
   "id": "58e4dda1",
   "metadata": {},
   "outputs": [],
   "source": [
    "class LogicGate:\n",
    "    def __init__(self, lbl):\n",
    "        self.label = lbl\n",
    "        self.output = None\n",
    "    \n",
    "    def get_label(self):\n",
    "        return self.label\n",
    "    \n",
    "    def get_output(self):\n",
    "        self.output = self.perform_gate_logic()  # 这是一种在面向对象编程中非常强大的思想：创建了一个使用尚未存在的代码的方法\n",
    "        return self.output"
   ]
  },
  {
   "cell_type": "markdown",
   "id": "7c0b694c",
   "metadata": {},
   "source": [
    "### BinaryGate类"
   ]
  },
  {
   "cell_type": "code",
   "execution_count": 130,
   "id": "2672565c",
   "metadata": {},
   "outputs": [],
   "source": [
    "class BinaryGate(LogicGate):\n",
    "    def __init__(self, lbl):\n",
    "        LogicGate.__init__(self, lbl)\n",
    "        self.pin_a = None\n",
    "        self.pin_b = None\n",
    "        \n",
    "    def get_pin_a(self):\n",
    "        if self.pin_a is None:\n",
    "            return int(input(f\"Enter pin A input for gate {self.get_label()}: \"))\n",
    "        else:\n",
    "            return self.pin_a.get_from().get_output()\n",
    "    \n",
    "    def get_pin_b(self):\n",
    "        return int(input(f\"Enter pin B input for gate {self.get_label()}: \"))\n",
    "\n",
    "    def set_next_pin(self, source):\n",
    "        if self.pin_a == None:\n",
    "            self.pin_a = source\n",
    "        else:\n",
    "            if self.pin_b == None:\n",
    "                self.pin_b = source\n",
    "            else:\n",
    "                raise RuntimeError(\"Error: NO EMPTY PINS\")"
   ]
  },
  {
   "cell_type": "markdown",
   "id": "10674ca6",
   "metadata": {},
   "source": [
    "### UnaryGate类"
   ]
  },
  {
   "cell_type": "code",
   "execution_count": 131,
   "id": "a90f31d9",
   "metadata": {},
   "outputs": [],
   "source": [
    "class UnaryGate(LogicGate):\n",
    "    def __init__(self, lbl):\n",
    "        LogicGate.__init__(self, lbl)\n",
    "        self.pin = None\n",
    "        \n",
    "    def get_pin(self):\n",
    "        return int(input(f\"Enter pin input for gate {self.get_label()}: \"))"
   ]
  },
  {
   "cell_type": "code",
   "execution_count": 132,
   "id": "d6261d40",
   "metadata": {},
   "outputs": [],
   "source": [
    "# 上面LogicGate.__init__(self, lbl)显式的指定了父类，还可以使用下面的方式来替换：\n",
    "\n",
    "# super().__init__(lbl)\n",
    "\n",
    "# super(UnaryGate, self).__init__(lbl)\n",
    "\n",
    "# super().__init__(\"UnaryGate\", lbl)"
   ]
  },
  {
   "cell_type": "markdown",
   "id": "1683bd63",
   "metadata": {},
   "source": [
    "### AndGate类  OrGate类  NotGate类"
   ]
  },
  {
   "cell_type": "code",
   "execution_count": 133,
   "id": "3307bbf1",
   "metadata": {},
   "outputs": [],
   "source": [
    "class AndGate(BinaryGate):\n",
    "    def __init__(self, lbl):\n",
    "        BinaryGate.__init__(self, lbl)\n",
    "        \n",
    "    def perform_gate_logic(self):\n",
    "        a = self.get_pin_a()\n",
    "        b = self.get_pin_b()\n",
    "        if a == 1 and b == 1:\n",
    "            return 1\n",
    "        else:\n",
    "            return 0"
   ]
  },
  {
   "cell_type": "code",
   "execution_count": 134,
   "id": "1a6987e3",
   "metadata": {},
   "outputs": [],
   "source": [
    "g1 = AndGate(\"G1\")"
   ]
  },
  {
   "cell_type": "code",
   "execution_count": 136,
   "id": "f815f99f",
   "metadata": {},
   "outputs": [
    {
     "name": "stdout",
     "output_type": "stream",
     "text": [
      "Enter pin A input for gate G1: 1\n",
      "Enter pin B input for gate G1: 0\n"
     ]
    },
    {
     "data": {
      "text/plain": [
       "0"
      ]
     },
     "execution_count": 136,
     "metadata": {},
     "output_type": "execute_result"
    }
   ],
   "source": [
    "g1.get_output()"
   ]
  },
  {
   "cell_type": "code",
   "execution_count": 137,
   "id": "69abdc59",
   "metadata": {},
   "outputs": [],
   "source": [
    "class OrGate(BinaryGate):\n",
    "    def __init__(self, lbl):\n",
    "        BinaryGate.__init__(self, lbl)\n",
    "        \n",
    "    def perform_gate_logic(self):\n",
    "        a = self.get_pin_a()\n",
    "        b = self.get_pin_b()\n",
    "        if a == 0 and b == 0:\n",
    "            return 0\n",
    "        else:\n",
    "            return 1"
   ]
  },
  {
   "cell_type": "code",
   "execution_count": 138,
   "id": "a8fcdf1c",
   "metadata": {},
   "outputs": [],
   "source": [
    "g2 = OrGate(\"G2\")"
   ]
  },
  {
   "cell_type": "code",
   "execution_count": 139,
   "id": "3cf053c8",
   "metadata": {},
   "outputs": [
    {
     "name": "stdout",
     "output_type": "stream",
     "text": [
      "Enter pin A input for gate G2: 0\n",
      "Enter pin B input for gate G2: 1\n"
     ]
    },
    {
     "data": {
      "text/plain": [
       "1"
      ]
     },
     "execution_count": 139,
     "metadata": {},
     "output_type": "execute_result"
    }
   ],
   "source": [
    "g2.get_output()"
   ]
  },
  {
   "cell_type": "code",
   "execution_count": 140,
   "id": "254a5116",
   "metadata": {},
   "outputs": [],
   "source": [
    "class NotGate(UnaryGate):\n",
    "    def __init__(self, lbl):\n",
    "        UnaryGate.__init__(self, lbl)\n",
    "        \n",
    "    def perform_gate_logic(self):\n",
    "        a = self.get_pin()\n",
    "        if a == 1:\n",
    "            return 0\n",
    "        else:\n",
    "            return 1"
   ]
  },
  {
   "cell_type": "code",
   "execution_count": 141,
   "id": "8e1b2ea0",
   "metadata": {},
   "outputs": [],
   "source": [
    "g3 = NotGate(\"G3\")"
   ]
  },
  {
   "cell_type": "code",
   "execution_count": 142,
   "id": "4970cb95",
   "metadata": {},
   "outputs": [
    {
     "name": "stdout",
     "output_type": "stream",
     "text": [
      "Enter pin input for gate G3: 1\n"
     ]
    },
    {
     "data": {
      "text/plain": [
       "0"
      ]
     },
     "execution_count": 142,
     "metadata": {},
     "output_type": "execute_result"
    }
   ],
   "source": [
    "g3.get_output()"
   ]
  },
  {
   "attachments": {},
   "cell_type": "markdown",
   "id": "64c78106",
   "metadata": {},
   "source": [
    "## 建立Connector来构建逻辑门组合\n",
    "\n"
   ]
  },
  {
   "cell_type": "code",
   "execution_count": 143,
   "id": "fd933897",
   "metadata": {},
   "outputs": [],
   "source": [
    "class Connector:\n",
    "    def __init__(self, fgate, tgate):\n",
    "        self.from_gate = fgate\n",
    "        self.to_gate = tgate\n",
    "        tgate.set_next_pin(self)\n",
    "        \n",
    "    def get_from(self):\n",
    "        return self.from_gate\n",
    "    \n",
    "    def get_to(self):\n",
    "        return self.to_gate"
   ]
  },
  {
   "cell_type": "code",
   "execution_count": 144,
   "id": "072f89ab",
   "metadata": {},
   "outputs": [],
   "source": [
    "g1 = AndGate('G1')"
   ]
  },
  {
   "cell_type": "code",
   "execution_count": 145,
   "id": "7cee4c6b",
   "metadata": {},
   "outputs": [],
   "source": [
    "g2 = AndGate(\"G2\")"
   ]
  },
  {
   "cell_type": "code",
   "execution_count": 146,
   "id": "76fe8087",
   "metadata": {},
   "outputs": [],
   "source": [
    "g3 = OrGate(\"G3\")"
   ]
  },
  {
   "cell_type": "code",
   "execution_count": 147,
   "id": "338d2f54",
   "metadata": {},
   "outputs": [],
   "source": [
    "g4 = NotGate(\"G4\")"
   ]
  },
  {
   "cell_type": "code",
   "execution_count": 148,
   "id": "5e09d533",
   "metadata": {},
   "outputs": [],
   "source": [
    "c1 = Connector(g1, g3)"
   ]
  },
  {
   "cell_type": "code",
   "execution_count": 149,
   "id": "0e3c0318",
   "metadata": {},
   "outputs": [],
   "source": [
    "c2 = Connector(g2, g3)"
   ]
  },
  {
   "cell_type": "code",
   "execution_count": 151,
   "id": "ca6e9fca",
   "metadata": {},
   "outputs": [
    {
     "ename": "AttributeError",
     "evalue": "'NotGate' object has no attribute 'set_next_pin'",
     "output_type": "error",
     "traceback": [
      "\u001b[1;31m---------------------------------------------------------------------------\u001b[0m",
      "\u001b[1;31mAttributeError\u001b[0m                            Traceback (most recent call last)",
      "Cell \u001b[1;32mIn[151], line 1\u001b[0m\n\u001b[1;32m----> 1\u001b[0m c3 \u001b[38;5;241m=\u001b[39m \u001b[43mConnector\u001b[49m\u001b[43m(\u001b[49m\u001b[43mg3\u001b[49m\u001b[43m,\u001b[49m\u001b[43m \u001b[49m\u001b[43mg4\u001b[49m\u001b[43m)\u001b[49m\n",
      "Cell \u001b[1;32mIn[143], line 5\u001b[0m, in \u001b[0;36mConnector.__init__\u001b[1;34m(self, fgate, tgate)\u001b[0m\n\u001b[0;32m      3\u001b[0m \u001b[38;5;28mself\u001b[39m\u001b[38;5;241m.\u001b[39mfrom_gate \u001b[38;5;241m=\u001b[39m fgate\n\u001b[0;32m      4\u001b[0m \u001b[38;5;28mself\u001b[39m\u001b[38;5;241m.\u001b[39mto_gate \u001b[38;5;241m=\u001b[39m tgate\n\u001b[1;32m----> 5\u001b[0m \u001b[43mtgate\u001b[49m\u001b[38;5;241;43m.\u001b[39;49m\u001b[43mset_next_pin\u001b[49m(\u001b[38;5;28mself\u001b[39m)\n",
      "\u001b[1;31mAttributeError\u001b[0m: 'NotGate' object has no attribute 'set_next_pin'"
     ]
    }
   ],
   "source": [
    "c3 = Connector(g3, g4)"
   ]
  },
  {
   "cell_type": "code",
   "execution_count": null,
   "id": "277c2c3a",
   "metadata": {},
   "outputs": [],
   "source": []
  }
 ],
 "metadata": {
  "kernelspec": {
   "display_name": "Python 3 (ipykernel)",
   "language": "python",
   "name": "python3"
  },
  "language_info": {
   "codemirror_mode": {
    "name": "ipython",
    "version": 3
   },
   "file_extension": ".py",
   "mimetype": "text/x-python",
   "name": "python",
   "nbconvert_exporter": "python",
   "pygments_lexer": "ipython3",
   "version": "3.11.4"
  }
 },
 "nbformat": 4,
 "nbformat_minor": 5
}
