{
 "cells": [
  {
   "cell_type": "markdown",
   "id": "53435bf2",
   "metadata": {},
   "source": [
    "## 线性数据结构\n",
    "一旦某个元素被添加进来，它与之前添加和之后添加的元素的相对位置将保持不变。这样的数据集合被称为**线性数据结构**"
   ]
  },
  {
   "cell_type": "markdown",
   "id": "1f6a7e9d",
   "metadata": {},
   "source": [
    "### 栈\n",
    "**栈**，也被称作“下推栈”，有序集合，添加操作和移除操作总是发生在同一端，即“顶端”。\n",
    "\n",
    "最后被添加的元素会最先被移除，这种顺序特性被称作**LIFO** (last-in first-out),即后进先出。"
   ]
  },
  {
   "cell_type": "code",
   "execution_count": 1,
   "id": "7958202c",
   "metadata": {},
   "outputs": [],
   "source": [
    "from pythonds3.basic import Stack"
   ]
  },
  {
   "cell_type": "code",
   "execution_count": 2,
   "id": "ce440e87",
   "metadata": {},
   "outputs": [],
   "source": [
    "s = Stack()"
   ]
  },
  {
   "cell_type": "code",
   "execution_count": 4,
   "id": "bda272c0",
   "metadata": {},
   "outputs": [
    {
     "data": {
      "text/plain": [
       "True"
      ]
     },
     "execution_count": 4,
     "metadata": {},
     "output_type": "execute_result"
    }
   ],
   "source": [
    "s.is_empty()"
   ]
  },
  {
   "cell_type": "code",
   "execution_count": 5,
   "id": "8e0f3537",
   "metadata": {},
   "outputs": [
    {
     "data": {
      "text/plain": [
       "'dog'"
      ]
     },
     "execution_count": 5,
     "metadata": {},
     "output_type": "execute_result"
    }
   ],
   "source": [
    "s.push(4)\n",
    "s.push('dog')\n",
    "s.peek()"
   ]
  },
  {
   "cell_type": "code",
   "execution_count": 6,
   "id": "a2004f1c",
   "metadata": {},
   "outputs": [
    {
     "data": {
      "text/plain": [
       "3"
      ]
     },
     "execution_count": 6,
     "metadata": {},
     "output_type": "execute_result"
    }
   ],
   "source": [
    "s.push(True)\n",
    "s.size()"
   ]
  },
  {
   "cell_type": "code",
   "execution_count": 7,
   "id": "db17ef0a",
   "metadata": {},
   "outputs": [
    {
     "data": {
      "text/plain": [
       "False"
      ]
     },
     "execution_count": 7,
     "metadata": {},
     "output_type": "execute_result"
    }
   ],
   "source": [
    "s.is_empty()"
   ]
  },
  {
   "cell_type": "code",
   "execution_count": 8,
   "id": "d5564c77",
   "metadata": {},
   "outputs": [],
   "source": [
    "s.push(8.4)"
   ]
  },
  {
   "cell_type": "code",
   "execution_count": 9,
   "id": "84f6c6e5",
   "metadata": {},
   "outputs": [
    {
     "data": {
      "text/plain": [
       "8.4"
      ]
     },
     "execution_count": 9,
     "metadata": {},
     "output_type": "execute_result"
    }
   ],
   "source": [
    "s.pop()"
   ]
  },
  {
   "cell_type": "code",
   "execution_count": 10,
   "id": "cf89dab7",
   "metadata": {},
   "outputs": [
    {
     "data": {
      "text/plain": [
       "3"
      ]
     },
     "execution_count": 10,
     "metadata": {},
     "output_type": "execute_result"
    }
   ],
   "source": [
    "s.size()"
   ]
  },
  {
   "cell_type": "markdown",
   "id": "64c55af1",
   "metadata": {},
   "source": [
    "使用栈来解决括号匹配问题"
   ]
  },
  {
   "cell_type": "code",
   "execution_count": 13,
   "id": "a978ac43",
   "metadata": {},
   "outputs": [],
   "source": [
    "from pythonds3.basic import Stack\n",
    "\n",
    "def par_check(sym_str):\n",
    "    s = Stack()\n",
    "    for sym in sym_str:\n",
    "        if sym == '(':\n",
    "            s.push(sym)\n",
    "        else:\n",
    "            if s.is_empty():\n",
    "                return False\n",
    "            else:\n",
    "                s.pop()\n",
    "    return s.is_empty()"
   ]
  },
  {
   "cell_type": "code",
   "execution_count": 14,
   "id": "b408b8c7",
   "metadata": {},
   "outputs": [
    {
     "data": {
      "text/plain": [
       "True"
      ]
     },
     "execution_count": 14,
     "metadata": {},
     "output_type": "execute_result"
    }
   ],
   "source": [
    "par_check('((()()()(((())))()()))')"
   ]
  },
  {
   "cell_type": "code",
   "execution_count": 15,
   "id": "68c6bc03",
   "metadata": {},
   "outputs": [
    {
     "data": {
      "text/plain": [
       "False"
      ]
     },
     "execution_count": 15,
     "metadata": {},
     "output_type": "execute_result"
    }
   ],
   "source": [
    "par_check('((()()()(((()))()()))')"
   ]
  },
  {
   "cell_type": "markdown",
   "id": "567bc3bb",
   "metadata": {},
   "source": [
    "多括号匹配问题"
   ]
  },
  {
   "cell_type": "code",
   "execution_count": 43,
   "id": "48cc5585",
   "metadata": {},
   "outputs": [],
   "source": [
    "def balance_checker(sym_str):\n",
    "    s = Stack()\n",
    "    for sym in sym_str:\n",
    "        if sym in '({[':\n",
    "            s.push(sym)\n",
    "        else:\n",
    "            if s.is_empty():\n",
    "                return False\n",
    "            else:\n",
    "                top_sym = s.pop()\n",
    "                if not '{[('.index(top_sym) == '}])'.index(sym):\n",
    "                    return False\n",
    "    return s.is_empty()"
   ]
  },
  {
   "cell_type": "code",
   "execution_count": 44,
   "id": "8ebf7228",
   "metadata": {},
   "outputs": [
    {
     "data": {
      "text/plain": [
       "True"
      ]
     },
     "execution_count": 44,
     "metadata": {},
     "output_type": "execute_result"
    }
   ],
   "source": [
    "balance_checker('({}{[]{{{}([]){}}}})')"
   ]
  },
  {
   "cell_type": "code",
   "execution_count": 45,
   "id": "181beb09",
   "metadata": {},
   "outputs": [
    {
     "data": {
      "text/plain": [
       "False"
      ]
     },
     "execution_count": 45,
     "metadata": {},
     "output_type": "execute_result"
    }
   ],
   "source": [
    "balance_checker('({}{[]{{{}([]){}}})')"
   ]
  },
  {
   "cell_type": "markdown",
   "id": "44689621",
   "metadata": {},
   "source": [
    "利用栈将十进制数转化为二进制数"
   ]
  },
  {
   "cell_type": "code",
   "execution_count": 59,
   "id": "2c73699f",
   "metadata": {},
   "outputs": [],
   "source": [
    "def decimal_to_bin(num):\n",
    "    s = Stack()\n",
    "    \n",
    "    while num > 0:\n",
    "        a = num % 2\n",
    "        s.push(a)\n",
    "        num = num // 2\n",
    "        \n",
    "    bin_str = ''\n",
    "    while not s.is_empty():\n",
    "        bin_str = bin_str + str(s.pop())\n",
    "        \n",
    "    return bin_str"
   ]
  },
  {
   "cell_type": "code",
   "execution_count": 60,
   "id": "13720105",
   "metadata": {},
   "outputs": [
    {
     "data": {
      "text/plain": [
       "'1010'"
      ]
     },
     "execution_count": 60,
     "metadata": {},
     "output_type": "execute_result"
    }
   ],
   "source": [
    "decimal_to_bin(10)"
   ]
  },
  {
   "cell_type": "markdown",
   "id": "af6884b5",
   "metadata": {},
   "source": [
    "利用栈将十进制数转化为任意进制的数"
   ]
  },
  {
   "cell_type": "code",
   "execution_count": 66,
   "id": "b39c2287",
   "metadata": {},
   "outputs": [],
   "source": [
    "def base_converter(decimal_num, base):\n",
    "    digits = '0123456789ABCDEF'\n",
    "    s = Stack()\n",
    "    \n",
    "    while decimal_num > 0:\n",
    "        rem = decimal_num % base\n",
    "        s.push(rem)\n",
    "        decimal_num = decimal_num // base\n",
    "    \n",
    "    bin_str = ''\n",
    "    while not s.is_empty():\n",
    "            bin_str = bin_str + str(digits[s.pop()])\n",
    "            \n",
    "    return bin_str"
   ]
  },
  {
   "cell_type": "code",
   "execution_count": 67,
   "id": "bd43a2df",
   "metadata": {},
   "outputs": [
    {
     "data": {
      "text/plain": [
       "'1111'"
      ]
     },
     "execution_count": 67,
     "metadata": {},
     "output_type": "execute_result"
    }
   ],
   "source": [
    "base_converter(15, 2)"
   ]
  },
  {
   "cell_type": "code",
   "execution_count": 68,
   "id": "45006951",
   "metadata": {},
   "outputs": [
    {
     "data": {
      "text/plain": [
       "'F'"
      ]
     },
     "execution_count": 68,
     "metadata": {},
     "output_type": "execute_result"
    }
   ],
   "source": [
    "base_converter(15, 16)"
   ]
  },
  {
   "cell_type": "code",
   "execution_count": 69,
   "id": "e64bcb9d",
   "metadata": {},
   "outputs": [
    {
     "data": {
      "text/plain": [
       "'17'"
      ]
     },
     "execution_count": 69,
     "metadata": {},
     "output_type": "execute_result"
    }
   ],
   "source": [
    "base_converter(15, 8)"
   ]
  },
  {
   "cell_type": "markdown",
   "id": "2a3f7c22",
   "metadata": {},
   "source": [
    "利用栈将中序表达式转化为后序表达式"
   ]
  },
  {
   "cell_type": "code",
   "execution_count": 134,
   "id": "41c90795",
   "metadata": {},
   "outputs": [],
   "source": [
    "def infix_to_postfix(infix_expr):\n",
    "    # 创建字典保存运算符的优先级值\n",
    "    prec = {}\n",
    "    prec['*'] = 3\n",
    "    prec['/'] = 3\n",
    "    prec['+'] = 2\n",
    "    prec['-'] = 2\n",
    "    prec['('] = 1\n",
    "    \n",
    "    op_stack = Stack()\n",
    "    postfix_list = []\n",
    "    token_list = infix_expr.split()\n",
    "    \n",
    "    for token in token_list:\n",
    "        if token in \"ABCDEFGHIJKLMNOPQRSTUVWXYZ\" or token in \"0123456789\":\n",
    "            postfix_list.append(token)\n",
    "        elif token == '(':\n",
    "            op_stack.push(token)\n",
    "        elif token == ')':\n",
    "            top_token = op_stack.pop()\n",
    "            while top_token != '(':\n",
    "                postfix_list.append(top_token)\n",
    "                top_token = op_stack.pop()\n",
    "        else:\n",
    "            while (not op_stack.is_empty()) and (prec[op_stack.peek()] >= prec[token]):\n",
    "                postfix_list.append(op_stack.pop())\n",
    "            op_stack.push(token)\n",
    "            \n",
    "    while not op_stack.is_empty():\n",
    "        postfix_list.append(op_stack.pop())\n",
    "        \n",
    "    return ''.join(postfix_list)"
   ]
  },
  {
   "cell_type": "code",
   "execution_count": 135,
   "id": "af5bf1b4",
   "metadata": {},
   "outputs": [
    {
     "data": {
      "text/plain": [
       "'AB+CD+*'"
      ]
     },
     "execution_count": 135,
     "metadata": {},
     "output_type": "execute_result"
    }
   ],
   "source": [
    "infix_to_postfix('( A + B ) * ( C + D )')"
   ]
  },
  {
   "cell_type": "markdown",
   "id": "4b469923",
   "metadata": {},
   "source": [
    "利用栈进行后序表达式的计算"
   ]
  },
  {
   "cell_type": "code",
   "execution_count": 142,
   "id": "57d983d9",
   "metadata": {},
   "outputs": [],
   "source": [
    "def cal_postfix(postfix_expr):\n",
    "    s = Stack()\n",
    "    token_list = postfix_expr.split()\n",
    "    for token in token_list:\n",
    "        if token not in '+-*/':\n",
    "            s.push(token)\n",
    "        else:\n",
    "            num1 = int(s.pop())\n",
    "            num2 = int(s.pop())\n",
    "            if token == '+':\n",
    "                temp_value = num1 + num2\n",
    "            elif token == '-':\n",
    "                temp_value = num2 - num1\n",
    "            elif token == '*':\n",
    "                temp_value = num2 * num1\n",
    "            else:\n",
    "                temp_value = num2 / num1\n",
    "            s.push(temp_value)\n",
    "    return s.pop()\n",
    "                "
   ]
  },
  {
   "cell_type": "code",
   "execution_count": 143,
   "id": "6fe82679",
   "metadata": {},
   "outputs": [
    {
     "data": {
      "text/plain": [
       "34"
      ]
     },
     "execution_count": 143,
     "metadata": {},
     "output_type": "execute_result"
    }
   ],
   "source": [
    "cal_postfix('4 5 6 * +')"
   ]
  },
  {
   "cell_type": "markdown",
   "id": "bf0e0cc8",
   "metadata": {},
   "source": [
    "### 队列"
   ]
  },
  {
   "cell_type": "markdown",
   "id": "b140d07d",
   "metadata": {},
   "source": [
    "**FIFO**: first-in first-out,先进先出。"
   ]
  },
  {
   "cell_type": "markdown",
   "id": "7d448e8f",
   "metadata": {},
   "source": [
    "传土豆模拟程序"
   ]
  },
  {
   "cell_type": "code",
   "execution_count": 146,
   "id": "d2d9b1e4",
   "metadata": {},
   "outputs": [],
   "source": [
    "from pythonds3.basic import Queue\n",
    "\n",
    "def hot_potato(namelist, num):\n",
    "    q = Queue()\n",
    "    for name in namelist:\n",
    "        q.enqueue(name)\n",
    "        \n",
    "    while q.size() > 1:\n",
    "        for i in range(num):\n",
    "            name = q.dequeue()\n",
    "            q.enqueue(name)\n",
    "        print(q.dequeue())\n",
    "    return q.dequeue()"
   ]
  },
  {
   "cell_type": "code",
   "execution_count": 147,
   "id": "bf652da1",
   "metadata": {},
   "outputs": [
    {
     "name": "stdout",
     "output_type": "stream",
     "text": [
      "B\n",
      "E\n",
      "D\n",
      "A\n",
      "F\n"
     ]
    },
    {
     "data": {
      "text/plain": [
       "'C'"
      ]
     },
     "execution_count": 147,
     "metadata": {},
     "output_type": "execute_result"
    }
   ],
   "source": [
    "hot_potato(['A', 'B', 'C', 'D', 'E', 'F'], 7)"
   ]
  },
  {
   "cell_type": "markdown",
   "id": "ce6b5ae7",
   "metadata": {},
   "source": [
    "## 双端队列"
   ]
  },
  {
   "cell_type": "code",
   "execution_count": 150,
   "id": "ca1a68ee",
   "metadata": {},
   "outputs": [],
   "source": [
    "from pythonds3.basic import Deque\n",
    "\n",
    "def cyc_check(word):\n",
    "    d = Deque()\n",
    "    for letter in word:\n",
    "        d.add_rear(letter)\n",
    "        \n",
    "    while d.size() > 1:\n",
    "        front = d.remove_front()\n",
    "        rear = d.remove_rear()\n",
    "        if front != rear:\n",
    "            return False\n",
    "    return True"
   ]
  },
  {
   "cell_type": "code",
   "execution_count": 151,
   "id": "b5530ab1",
   "metadata": {},
   "outputs": [
    {
     "data": {
      "text/plain": [
       "True"
      ]
     },
     "execution_count": 151,
     "metadata": {},
     "output_type": "execute_result"
    }
   ],
   "source": [
    "cyc_check('radar')"
   ]
  },
  {
   "cell_type": "markdown",
   "id": "33749d8f",
   "metadata": {},
   "source": [
    "### 链表（Linked List）"
   ]
  },
  {
   "cell_type": "code",
   "execution_count": null,
   "id": "fba38f24",
   "metadata": {},
   "outputs": [],
   "source": []
  }
 ],
 "metadata": {
  "kernelspec": {
   "display_name": "Python 3 (ipykernel)",
   "language": "python",
   "name": "python3"
  },
  "language_info": {
   "codemirror_mode": {
    "name": "ipython",
    "version": 3
   },
   "file_extension": ".py",
   "mimetype": "text/x-python",
   "name": "python",
   "nbconvert_exporter": "python",
   "pygments_lexer": "ipython3",
   "version": "3.11.4"
  }
 },
 "nbformat": 4,
 "nbformat_minor": 5
}
