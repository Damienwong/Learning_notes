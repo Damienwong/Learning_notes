{
 "cells": [
  {
   "cell_type": "markdown",
   "id": "0b7cfc3b",
   "metadata": {},
   "source": [
    "## 1. 搜索\n",
    "### 顺序搜索"
   ]
  },
  {
   "cell_type": "markdown",
   "id": "0e99f50a",
   "metadata": {},
   "source": [
    "顺序搜索就是从第一个元素开始，沿着index顺序逐个查看，直到找到目标元素或者到达列表末尾。"
   ]
  },
  {
   "cell_type": "code",
   "execution_count": 1,
   "id": "2f708bf1",
   "metadata": {},
   "outputs": [],
   "source": [
    "def sequential_search(a_list, item):\n",
    "    pos = 0\n",
    "    while pos < len(a_list):\n",
    "        if a_list[pos] == item:\n",
    "            return True\n",
    "        pos =+ 1\n",
    "    return False"
   ]
  },
  {
   "cell_type": "markdown",
   "id": "8d2a9cdd",
   "metadata": {},
   "source": [
    "### 二分搜索"
   ]
  },
  {
   "cell_type": "code",
   "execution_count": 3,
   "id": "860397f7",
   "metadata": {},
   "outputs": [],
   "source": [
    "def binary_search(a_list, item):\n",
    "    '''\n",
    "    适用于有序列表的二分搜索\n",
    "    '''\n",
    "    first = 0\n",
    "    last = len(a_list) - 1\n",
    "    while first <= last:\n",
    "        midpoint = (first + last) // 2\n",
    "        if a_list[midpoint] == item:\n",
    "            return True\n",
    "        elif a_list[midpoint] < item:\n",
    "            first = midpoint + 1\n",
    "        else:\n",
    "            last = midpoint - 1\n",
    "            \n",
    "    return False"
   ]
  },
  {
   "cell_type": "code",
   "execution_count": 4,
   "id": "11371832",
   "metadata": {},
   "outputs": [],
   "source": [
    "def binary_search_rec(a_list, item):\n",
    "    \"\"\"\n",
    "    二分搜索的递归版本\n",
    "    \"\"\"\n",
    "    if len(a_list) == 0:\n",
    "        return False\n",
    "    midpoint = len(a_list) // 2\n",
    "    \n",
    "    if a_list[midpoint] == item:\n",
    "        return True\n",
    "    elif a_list[midpoint] < item:\n",
    "        return binary_search_rec(a_list[midpoint + 1:], item)\n",
    "    else:\n",
    "        return binary_search_rec(a_list[: midpoint], item)"
   ]
  },
  {
   "cell_type": "code",
   "execution_count": 6,
   "id": "1dcb3deb",
   "metadata": {},
   "outputs": [
    {
     "data": {
      "text/plain": [
       "True"
      ]
     },
     "execution_count": 6,
     "metadata": {},
     "output_type": "execute_result"
    }
   ],
   "source": [
    "binary_search_rec([2, 3, 4, 5, 23, 45, 65 , 78], 65)"
   ]
  },
  {
   "cell_type": "markdown",
   "id": "315ef1ee",
   "metadata": {},
   "source": [
    "### 散列"
   ]
  },
  {
   "cell_type": "code",
   "execution_count": 34,
   "id": "1da8d4fc",
   "metadata": {},
   "outputs": [],
   "source": [
    "class HashTable:\n",
    "    def __init__(self):\n",
    "        self.size = 11\n",
    "        self.slots = [None] * self.size\n",
    "        self.data = [None] * self.size\n",
    "        \n",
    "    def put(self, key, data):\n",
    "        hash_value = self.hash_function(key, len(self.slots))\n",
    "        \n",
    "        if self.slots[hash_value] is None:\n",
    "            self.slots[hash_value] = key\n",
    "            self.data[hash_value] = data\n",
    "        else:\n",
    "            if self.slots[hash_value] == key:\n",
    "                self.data[hash_value] = data  # 往映射中加入一个新的键值对，如果键已经存在，就用新值替换旧值。\n",
    "            else:\n",
    "                next_slot = self.rehash(hash_value, len(self.slots))\n",
    "                while (self.slots[next_slot] is not None and self.slots[next_slot] != key):\n",
    "                    next_slot = self.rehash(next_slot, len(self.slots))\n",
    "                if self.slots[next_slot] is None:\n",
    "                    self.slots[next_slot] = key\n",
    "                    self.data[next_slot] = data\n",
    "                else:\n",
    "                    self.slots[next_slot] = data\n",
    "        \n",
    "    def hash_function(self, key, size):\n",
    "        return key % size\n",
    "    \n",
    "    def rehash(self, old_hash, size):\n",
    "        return (old_hash + 1) % size\n",
    "    \n",
    "    def get(self, key):\n",
    "        start_slot = self.hash_function(key, len(self.slots))\n",
    "        \n",
    "        position = start_slot\n",
    "        while self.slots[position] is not None:\n",
    "            if self.slots[position] == key:\n",
    "                return self.data[position]\n",
    "            else:\n",
    "                position = self.rehash(position, len(self.slots))\n",
    "                \n",
    "                if position == start_slot:\n",
    "                    return None\n",
    "                \n",
    "    def __getitem__(self, key):\n",
    "        return self.get(key)\n",
    "    \n",
    "    def __setitem__(self, key, data):\n",
    "        self.put(key, data)"
   ]
  },
  {
   "cell_type": "code",
   "execution_count": 35,
   "id": "4e5b562a",
   "metadata": {},
   "outputs": [],
   "source": [
    "h = HashTable()"
   ]
  },
  {
   "cell_type": "code",
   "execution_count": 36,
   "id": "1e050756",
   "metadata": {},
   "outputs": [],
   "source": [
    "h[54] = 'cat'"
   ]
  },
  {
   "cell_type": "code",
   "execution_count": 37,
   "id": "3f108933",
   "metadata": {},
   "outputs": [],
   "source": [
    "h[26] = 'dog'"
   ]
  },
  {
   "cell_type": "code",
   "execution_count": 38,
   "id": "2bca4df6",
   "metadata": {},
   "outputs": [],
   "source": [
    "h[93] = 'zenny'"
   ]
  },
  {
   "cell_type": "code",
   "execution_count": 39,
   "id": "67bd404a",
   "metadata": {},
   "outputs": [],
   "source": [
    "h[77] = '2km'"
   ]
  },
  {
   "cell_type": "code",
   "execution_count": 40,
   "id": "e4669507",
   "metadata": {},
   "outputs": [
    {
     "data": {
      "text/plain": [
       "[77, None, None, None, 26, 93, None, None, None, None, 54]"
      ]
     },
     "execution_count": 40,
     "metadata": {},
     "output_type": "execute_result"
    }
   ],
   "source": [
    "h.slots"
   ]
  },
  {
   "cell_type": "code",
   "execution_count": 41,
   "id": "ce5ef692",
   "metadata": {},
   "outputs": [
    {
     "data": {
      "text/plain": [
       "['2km', None, None, None, 'dog', 'zenny', None, None, None, None, 'cat']"
      ]
     },
     "execution_count": 41,
     "metadata": {},
     "output_type": "execute_result"
    }
   ],
   "source": [
    "h.data"
   ]
  },
  {
   "cell_type": "code",
   "execution_count": 42,
   "id": "cf14bcdb",
   "metadata": {},
   "outputs": [],
   "source": [
    "h[88] = 'feifei'"
   ]
  },
  {
   "cell_type": "code",
   "execution_count": 43,
   "id": "2478e47b",
   "metadata": {},
   "outputs": [
    {
     "data": {
      "text/plain": [
       "<__main__.HashTable at 0x1fea99b1ed0>"
      ]
     },
     "execution_count": 43,
     "metadata": {},
     "output_type": "execute_result"
    }
   ],
   "source": [
    "h"
   ]
  },
  {
   "cell_type": "code",
   "execution_count": 44,
   "id": "f1349700",
   "metadata": {},
   "outputs": [
    {
     "data": {
      "text/plain": [
       "'feifei'"
      ]
     },
     "execution_count": 44,
     "metadata": {},
     "output_type": "execute_result"
    }
   ],
   "source": [
    "h[88]"
   ]
  },
  {
   "cell_type": "markdown",
   "id": "9f0c860d",
   "metadata": {},
   "source": [
    "print(h[88])"
   ]
  },
  {
   "cell_type": "code",
   "execution_count": 47,
   "id": "e3386724",
   "metadata": {},
   "outputs": [
    {
     "data": {
      "text/plain": [
       "['2km', 'feifei', None, None, 'dog', 'zenny', None, None, None, None, 'cat']"
      ]
     },
     "execution_count": 47,
     "metadata": {},
     "output_type": "execute_result"
    }
   ],
   "source": [
    "h.data"
   ]
  },
  {
   "cell_type": "code",
   "execution_count": 48,
   "id": "935290b7",
   "metadata": {},
   "outputs": [
    {
     "data": {
      "text/plain": [
       "[77, 88, None, None, 26, 93, None, None, None, None, 54]"
      ]
     },
     "execution_count": 48,
     "metadata": {},
     "output_type": "execute_result"
    }
   ],
   "source": [
    "h.slots"
   ]
  },
  {
   "cell_type": "code",
   "execution_count": 52,
   "id": "1d8d8b58",
   "metadata": {},
   "outputs": [
    {
     "data": {
      "text/plain": [
       "0.9473684210526315"
      ]
     },
     "execution_count": 52,
     "metadata": {},
     "output_type": "execute_result"
    }
   ],
   "source": [
    "90/95"
   ]
  },
  {
   "cell_type": "markdown",
   "id": "39cf1f45",
   "metadata": {},
   "source": [
    "## 排序"
   ]
  },
  {
   "cell_type": "markdown",
   "id": "c7ce7e21",
   "metadata": {},
   "source": [
    "1. 冒泡排序"
   ]
  },
  {
   "cell_type": "code",
   "execution_count": 1,
   "id": "fc000e40",
   "metadata": {},
   "outputs": [],
   "source": [
    "def bubble_sort(a_list):\n",
    "    for i in range(len(a_list), 1, -1):\n",
    "        for j in range(i - 1):\n",
    "            if a_list[j] > a_list[j + 1]:\n",
    "                a_list[j], a_list[j + 1] = a_list[j + 1], a_list[j]\n",
    "                \n",
    "    return a_list"
   ]
  },
  {
   "cell_type": "code",
   "execution_count": 3,
   "id": "29b3c46c",
   "metadata": {},
   "outputs": [
    {
     "data": {
      "text/plain": [
       "[1, 3, 4, 6, 7, 9, 14]"
      ]
     },
     "execution_count": 3,
     "metadata": {},
     "output_type": "execute_result"
    }
   ],
   "source": [
    "bubble_sort([4, 3, 6, 7, 9, 14, 1])"
   ]
  },
  {
   "cell_type": "markdown",
   "id": "5809c58e",
   "metadata": {},
   "source": [
    "短冒泡排序"
   ]
  },
  {
   "cell_type": "markdown",
   "id": "c2aaa4b4",
   "metadata": {},
   "source": [
    "def bubble_sort_short(a_list):\n",
    "    for i in range(len(a_list), 1, -1):\n",
    "        exchange = False\n",
    "        for j in range(i - 1):\n",
    "            if a_list[j] > a_list[j + 1]:\n",
    "                a_list[j], a_list[j + 1] = a_list[j + 1], a_list[j]\n",
    "                exchange = True\n",
    "        if not exchange:\n",
    "            break\n",
    "            \n",
    "    return a_list"
   ]
  },
  {
   "cell_type": "code",
   "execution_count": 7,
   "id": "f820c25c",
   "metadata": {},
   "outputs": [
    {
     "data": {
      "text/plain": [
       "[1, 3, 4, 6, 7, 9, 14]"
      ]
     },
     "execution_count": 7,
     "metadata": {},
     "output_type": "execute_result"
    }
   ],
   "source": [
    "bubble_sort_short([4, 3, 6, 7, 9, 14, 1])"
   ]
  },
  {
   "cell_type": "markdown",
   "id": "6d4470ab",
   "metadata": {},
   "source": [
    "2.选择排序"
   ]
  },
  {
   "cell_type": "code",
   "execution_count": 8,
   "id": "8cda0244",
   "metadata": {},
   "outputs": [],
   "source": [
    "def selection_sort(a_list):\n",
    "    for i in range(len(a_list) - 1, 0, -1):\n",
    "        max_idx = i  # 先假设最大的数在最后\n",
    "        for j in range(i):\n",
    "            if a_list[j] > a_list[max_idx]:\n",
    "                max_idx = j  # 如果有比最后的数大的，就记住index\n",
    "        if max_idx != i:\n",
    "            a_list[i], a_list[max_idx] = a_list[max_idx], a_list[i]\n",
    "    \n",
    "    return a_list\n",
    "        "
   ]
  },
  {
   "cell_type": "code",
   "execution_count": 9,
   "id": "c4c6f2fc",
   "metadata": {},
   "outputs": [
    {
     "data": {
      "text/plain": [
       "[1, 3, 4, 6, 7, 9, 14]"
      ]
     },
     "execution_count": 9,
     "metadata": {},
     "output_type": "execute_result"
    }
   ],
   "source": [
    "selection_sort([4, 3, 6, 7, 9, 14, 1])"
   ]
  },
  {
   "cell_type": "markdown",
   "id": "e01f122c",
   "metadata": {},
   "source": [
    "3. 插入排序"
   ]
  },
  {
   "cell_type": "code",
   "execution_count": 34,
   "id": "2102a81f",
   "metadata": {},
   "outputs": [],
   "source": [
    "def insertion_sort(a_list):\n",
    "    for i in range(1, len(a_list)):\n",
    "        cur_value = a_list[i]\n",
    "        cur_pos = i\n",
    "        while cur_pos > 0 and a_list[cur_pos - 1] > cur_value:\n",
    "            a_list[cur_pos] = a_list[cur_pos - 1]\n",
    "            cur_pos -= 1\n",
    "        a_list[cur_pos] = cur_value\n",
    "    return a_list"
   ]
  },
  {
   "cell_type": "code",
   "execution_count": 35,
   "id": "e8858eee",
   "metadata": {},
   "outputs": [
    {
     "data": {
      "text/plain": [
       "[1, 3, 4, 6, 7, 9, 14]"
      ]
     },
     "execution_count": 35,
     "metadata": {},
     "output_type": "execute_result"
    }
   ],
   "source": [
    "insertion_sort([4, 3, 6, 7, 9, 14, 1])"
   ]
  },
  {
   "cell_type": "markdown",
   "id": "a4f11f3a",
   "metadata": {},
   "source": [
    "4. 希尔排序"
   ]
  },
  {
   "cell_type": "code",
   "execution_count": 52,
   "id": "db754466",
   "metadata": {},
   "outputs": [],
   "source": [
    "def shell_sort(a_list):\n",
    "    sublist_count = len(a_list) // 2  # 子列表的个数\n",
    "    while sublist_count > 0:\n",
    "        for pos_start in range(sublist_count):\n",
    "            gap_insertion_sort(a_list, pos_start, sublist_count)\n",
    "        print(f'按步长为{sublist_count}排序后，list是 \\n\\t{a_list}')\n",
    "        sublist_count = sublist_count // 2\n",
    "\n",
    "def gap_insertion_sort(a_list, start, gap):\n",
    "    for i in range(start + gap, len(a_list), gap):\n",
    "        cur_value = a_list[i]\n",
    "        cur_pos = i\n",
    "        while cur_pos >= gap and a_list[cur_pos - gap] > cur_value:\n",
    "            a_list[cur_pos] = a_list[cur_pos - gap]\n",
    "            cur_pos -= gap\n",
    "        a_list[cur_pos] = cur_value\n",
    "    return a_list"
   ]
  },
  {
   "cell_type": "code",
   "execution_count": 2,
   "id": "79953175",
   "metadata": {},
   "outputs": [
    {
     "ename": "NameError",
     "evalue": "name 'shell_sort' is not defined",
     "output_type": "error",
     "traceback": [
      "\u001b[1;31m---------------------------------------------------------------------------\u001b[0m",
      "\u001b[1;31mNameError\u001b[0m                                 Traceback (most recent call last)",
      "Cell \u001b[1;32mIn[2], line 1\u001b[0m\n\u001b[1;32m----> 1\u001b[0m \u001b[43mshell_sort\u001b[49m([\u001b[38;5;241m4\u001b[39m, \u001b[38;5;241m3\u001b[39m, \u001b[38;5;241m6\u001b[39m, \u001b[38;5;241m7\u001b[39m, \u001b[38;5;241m9\u001b[39m, \u001b[38;5;241m14\u001b[39m, \u001b[38;5;241m1\u001b[39m])\n",
      "\u001b[1;31mNameError\u001b[0m: name 'shell_sort' is not defined"
     ]
    }
   ],
   "source": [
    "shell_sort([4, 3, 6, 7, 9, 14, 1])"
   ]
  },
  {
   "cell_type": "markdown",
   "id": "6ffab17f",
   "metadata": {},
   "source": [
    "5.归并排序"
   ]
  },
  {
   "cell_type": "code",
   "execution_count": 5,
   "id": "261ec1b6",
   "metadata": {},
   "outputs": [],
   "source": [
    "def merge_sort(a_list):\n",
    "    print('Splitting', a_list)\n",
    "    if len(a_list) > 1:\n",
    "        mid = len(a_list) // 2\n",
    "        left_half = a_list[: mid]\n",
    "        right_half = a_list[mid:]\n",
    "        \n",
    "        merge_sort(left_half)\n",
    "        merge_sort(right_half)\n",
    "        \n",
    "        i, j, k = 0, 0, 0\n",
    "        while i < len(left_half) and j < len(right_half):\n",
    "            if left_half[i] <= right_half[j]:\n",
    "                a_list[k] = left_half[i]\n",
    "                i += 1\n",
    "            else:\n",
    "                a_list[k] = right_half[j]\n",
    "                j += 1\n",
    "            k += 1\n",
    "        while i < len(left_half):\n",
    "            a_list[k] = left_half[i]\n",
    "            i += 1\n",
    "            k += 1\n",
    "        while j < len(right_half):\n",
    "            a_list[k] = right_half[j]\n",
    "            j += 1\n",
    "            k += 1\n",
    "    print('Merging', a_list)"
   ]
  },
  {
   "cell_type": "code",
   "execution_count": 6,
   "id": "b2c1df41",
   "metadata": {},
   "outputs": [
    {
     "name": "stdout",
     "output_type": "stream",
     "text": [
      "Splitting [54, 26, 93, 17, 77, 31, 44, 55, 20]\n",
      "Splitting [54, 26, 93, 17]\n",
      "Splitting [54, 26]\n",
      "Splitting [54]\n",
      "Merging [54]\n",
      "Splitting [26]\n",
      "Merging [26]\n",
      "Merging [26, 54]\n",
      "Splitting [93, 17]\n",
      "Splitting [93]\n",
      "Merging [93]\n",
      "Splitting [17]\n",
      "Merging [17]\n",
      "Merging [17, 93]\n",
      "Merging [17, 26, 54, 93]\n",
      "Splitting [77, 31, 44, 55, 20]\n",
      "Splitting [77, 31]\n",
      "Splitting [77]\n",
      "Merging [77]\n",
      "Splitting [31]\n",
      "Merging [31]\n",
      "Merging [31, 77]\n",
      "Splitting [44, 55, 20]\n",
      "Splitting [44]\n",
      "Merging [44]\n",
      "Splitting [55, 20]\n",
      "Splitting [55]\n",
      "Merging [55]\n",
      "Splitting [20]\n",
      "Merging [20]\n",
      "Merging [20, 55]\n",
      "Merging [20, 44, 55]\n",
      "Merging [20, 31, 44, 55, 77]\n",
      "Merging [17, 20, 26, 31, 44, 54, 55, 77, 93]\n"
     ]
    }
   ],
   "source": [
    "merge_sort([54, 26, 93, 17, 77, 31, 44, 55, 20])"
   ]
  },
  {
   "cell_type": "markdown",
   "id": "979d80fe",
   "metadata": {},
   "source": [
    "6. 快速排序"
   ]
  },
  {
   "cell_type": "code",
   "execution_count": 30,
   "id": "3a74e42d",
   "metadata": {},
   "outputs": [],
   "source": [
    "def quick_sort(a_list):\n",
    "    quick_sort_helper(a_list, 0, len(a_list)-1)\n",
    "    \n",
    "def quick_sort_helper(a_list, first, last):\n",
    "    if first < last:\n",
    "        split = partition(a_list, first, last)\n",
    "#         print(split)\n",
    "        quick_sort_helper(a_list, first, split - 1)\n",
    "        quick_sort_helper(a_list, split + 1, last)\n",
    "    print(a_list)\n",
    "        \n",
    "def partition(a_list, first, last):\n",
    "    pivot_val = a_list[first]\n",
    "    left_mark = first + 1\n",
    "    right_mark = last\n",
    "    done = False\n",
    "    \n",
    "    while not done:\n",
    "        while left_mark <= right_mark and a_list[left_mark] <= pivot_val:\n",
    "            left_mark += 1\n",
    "            \n",
    "        while left_mark <= right_mark and a_list[right_mark] >= pivot_val:\n",
    "            right_mark -= 1\n",
    "        \n",
    "        if left_mark > right_mark:\n",
    "            done = True\n",
    "        \n",
    "        else:\n",
    "            a_list[left_mark], a_list[right_mark] = a_list[right_mark], a_list[left_mark]\n",
    "            \n",
    "    a_list[right_mark], a_list[first] = a_list[first], a_list[right_mark]\n",
    "#     print(a_list)\n",
    "    \n",
    "    return right_mark"
   ]
  },
  {
   "cell_type": "code",
   "execution_count": 31,
   "id": "b8957d39",
   "metadata": {},
   "outputs": [
    {
     "name": "stdout",
     "output_type": "stream",
     "text": [
      "[17, 26, 20, 31, 44, 54, 77, 55, 93]\n",
      "[17, 20, 26, 31, 44, 54, 77, 55, 93]\n",
      "[17, 20, 26, 31, 44, 54, 77, 55, 93]\n",
      "[17, 20, 26, 31, 44, 54, 77, 55, 93]\n",
      "[17, 20, 26, 31, 44, 54, 77, 55, 93]\n",
      "[17, 20, 26, 31, 44, 54, 77, 55, 93]\n",
      "[17, 20, 26, 31, 44, 54, 77, 55, 93]\n",
      "[17, 20, 26, 31, 44, 54, 55, 77, 93]\n",
      "[17, 20, 26, 31, 44, 54, 55, 77, 93]\n",
      "[17, 20, 26, 31, 44, 54, 55, 77, 93]\n",
      "[17, 20, 26, 31, 44, 54, 55, 77, 93]\n"
     ]
    }
   ],
   "source": [
    "quick_sort([54, 26, 93, 17, 77, 31, 44, 55, 20])"
   ]
  }
 ],
 "metadata": {
  "kernelspec": {
   "display_name": "Python 3 (ipykernel)",
   "language": "python",
   "name": "python3"
  },
  "language_info": {
   "codemirror_mode": {
    "name": "ipython",
    "version": 3
   },
   "file_extension": ".py",
   "mimetype": "text/x-python",
   "name": "python",
   "nbconvert_exporter": "python",
   "pygments_lexer": "ipython3",
   "version": "3.11.4"
  }
 },
 "nbformat": 4,
 "nbformat_minor": 5
}
