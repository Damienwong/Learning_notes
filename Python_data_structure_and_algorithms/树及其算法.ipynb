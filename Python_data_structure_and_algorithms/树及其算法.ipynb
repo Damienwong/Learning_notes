{
 "cells": [
  {
   "cell_type": "markdown",
   "id": "aac780cc",
   "metadata": {},
   "source": [
    "1. 列表之列表 实现"
   ]
  },
  {
   "cell_type": "code",
   "execution_count": 2,
   "id": "6efc7b21",
   "metadata": {},
   "outputs": [],
   "source": [
    "def make_binary_tree(root):\n",
    "    '''\n",
    "    构建二叉树\n",
    "    '''\n",
    "    return [root, [], []]"
   ]
  },
  {
   "cell_type": "code",
   "execution_count": 6,
   "id": "bdad19c4",
   "metadata": {},
   "outputs": [],
   "source": [
    "def insert_left(root, new_child):\n",
    "    \"\"\"\n",
    "    插入左子树\n",
    "    如果当前左子树有内容，将旧的左子树降级为新的节点的左子树\n",
    "    \"\"\"\n",
    "    old_child = root.pop(1)\n",
    "    if len(old_child) > 1:\n",
    "        root.insert(1, [new_child, old_child, []])\n",
    "    else:\n",
    "        root.insert(1, [new_child, [], []])\n",
    "    return root"
   ]
  },
  {
   "cell_type": "code",
   "execution_count": 7,
   "id": "926774ab",
   "metadata": {},
   "outputs": [],
   "source": [
    "def insert_right(root, new_child):\n",
    "    \"\"\"\n",
    "    插入右子树\n",
    "    \"\"\"\n",
    "    old_child = root.pop(2)\n",
    "    if len(old_child) > 1:\n",
    "        root.insert(2, [new_child, [], old_child])\n",
    "    else:\n",
    "        root.insert(2, [new_child, [], []])\n",
    "    return root"
   ]
  },
  {
   "cell_type": "code",
   "execution_count": 8,
   "id": "b26a02c9",
   "metadata": {},
   "outputs": [],
   "source": [
    "# 创建 树的访问函数\n",
    "\n",
    "def get_root_val(root):\n",
    "    return root[0]\n",
    "\n",
    "def set_root_val(root, new_value):\n",
    "    root[0] = new_value\n",
    "    \n",
    "def get_left_child(root):\n",
    "    return root[1]\n",
    "\n",
    "def get_right_child(root):\n",
    "    return root[2]"
   ]
  },
  {
   "cell_type": "code",
   "execution_count": 9,
   "id": "7a604c41",
   "metadata": {},
   "outputs": [],
   "source": [
    "a_tree = make_binary_tree('Top')"
   ]
  },
  {
   "cell_type": "code",
   "execution_count": 10,
   "id": "81d7b34d",
   "metadata": {},
   "outputs": [
    {
     "data": {
      "text/plain": [
       "['Top', ['left', [], []], []]"
      ]
     },
     "execution_count": 10,
     "metadata": {},
     "output_type": "execute_result"
    }
   ],
   "source": [
    "insert_left(a_tree, 'left')"
   ]
  },
  {
   "cell_type": "code",
   "execution_count": 11,
   "id": "d1fbe465",
   "metadata": {},
   "outputs": [
    {
     "data": {
      "text/plain": [
       "['Top', ['OK', ['left', [], []], []], []]"
      ]
     },
     "execution_count": 11,
     "metadata": {},
     "output_type": "execute_result"
    }
   ],
   "source": [
    "insert_left(a_tree, 'OK')"
   ]
  },
  {
   "cell_type": "code",
   "execution_count": 12,
   "id": "0a105406",
   "metadata": {},
   "outputs": [
    {
     "data": {
      "text/plain": [
       "['left', [], []]"
      ]
     },
     "execution_count": 12,
     "metadata": {},
     "output_type": "execute_result"
    }
   ],
   "source": [
    "get_left_child(get_left_child(a_tree))"
   ]
  },
  {
   "cell_type": "markdown",
   "id": "f5be26cb",
   "metadata": {},
   "source": [
    "2. 节点与引用"
   ]
  },
  {
   "cell_type": "code",
   "execution_count": 14,
   "id": "0c0bd0e2",
   "metadata": {},
   "outputs": [],
   "source": [
    "class BinaryTree:\n",
    "    def __init__(self, root_obj):\n",
    "        self.key = root_obj\n",
    "        self.left_child = None\n",
    "        self.right_child = None\n",
    "        \n",
    "    def insert_left(self, new_node):\n",
    "        \"\"\"\n",
    "        插入左子节点\n",
    "        \"\"\"\n",
    "        if self.left_child is None:\n",
    "            self.left_child = BinaryTree(new_node)\n",
    "        else:\n",
    "            new_child = BinaryTree(new_node)\n",
    "            new_child.left_child = self.left_child\n",
    "            self.left_child = new_child\n",
    "            \n",
    "    def insert_right(self, new_node):\n",
    "        \"\"\"\n",
    "        插入右子节点\n",
    "        \"\"\"\n",
    "        if self.right_child is None:\n",
    "            self.right_child = BinaryTree(new_node)\n",
    "        else:\n",
    "            new_child = BinaryTree(new_node)\n",
    "            new_child.right_child = self.right_child\n",
    "            self.right_child = new_child\n",
    "            \n",
    "    def get_root_val(self):\n",
    "        return self.key\n",
    "    \n",
    "    def ser_root_val(self, new_obj):\n",
    "        self.key = new_obj\n",
    "        \n",
    "    def get_left_child(self):\n",
    "        return self.left_child\n",
    "    \n",
    "    def get_right_child(self):\n",
    "        return self.right_child"
   ]
  },
  {
   "cell_type": "code",
   "execution_count": 15,
   "id": "4945b5f7",
   "metadata": {},
   "outputs": [],
   "source": [
    "from pythonds3.trees import BinaryTree"
   ]
  },
  {
   "cell_type": "code",
   "execution_count": 16,
   "id": "de2ef68d",
   "metadata": {},
   "outputs": [],
   "source": [
    "a_tree = BinaryTree('a')"
   ]
  },
  {
   "cell_type": "code",
   "execution_count": 17,
   "id": "6d6f04ba",
   "metadata": {},
   "outputs": [
    {
     "data": {
      "text/plain": [
       "<pythonds3.trees.binary_tree.BinaryTree at 0x21037d91890>"
      ]
     },
     "execution_count": 17,
     "metadata": {},
     "output_type": "execute_result"
    }
   ],
   "source": [
    "a_tree"
   ]
  },
  {
   "cell_type": "code",
   "execution_count": 18,
   "id": "3075aa92",
   "metadata": {},
   "outputs": [
    {
     "data": {
      "text/plain": [
       "'a'"
      ]
     },
     "execution_count": 18,
     "metadata": {},
     "output_type": "execute_result"
    }
   ],
   "source": [
    "a_tree.get_root_val()"
   ]
  },
  {
   "cell_type": "code",
   "execution_count": 20,
   "id": "910659fe",
   "metadata": {},
   "outputs": [],
   "source": [
    "a_tree.insert_left('b')"
   ]
  },
  {
   "cell_type": "code",
   "execution_count": 27,
   "id": "5ddf0023",
   "metadata": {},
   "outputs": [
    {
     "name": "stdout",
     "output_type": "stream",
     "text": [
      "b\n"
     ]
    }
   ],
   "source": [
    "print(a_tree.left_child.get_root_val())"
   ]
  },
  {
   "cell_type": "markdown",
   "id": "4fe8a6c5",
   "metadata": {},
   "source": [
    "解析树构建器"
   ]
  },
  {
   "cell_type": "code",
   "execution_count": 6,
   "id": "d0692d8d",
   "metadata": {},
   "outputs": [],
   "source": [
    "from pythonds3.basic import Stack\n",
    "from pythonds3.trees import BinaryTree\n",
    "\n",
    "def build_pares_tree(fp_exp):\n",
    "    \"\"\"\n",
    "    用来构建解析树\n",
    "    \"\"\"\n",
    "    fp_list = fp_exp.split()\n",
    "    p_stack = Stack()\n",
    "    \n",
    "    expr_tree = BinaryTree('')  # 创建顶层父节点的实例\n",
    "    p_stack.push(expr_tree)  # 放入栈\n",
    "    \n",
    "    current_tree = expr_tree\n",
    "    \n",
    "    for i in fp_list:\n",
    "        if i == '(':\n",
    "            current_tree.insert_left('')\n",
    "            p_stack.push(current_tree)\n",
    "            current_tree = current_tree.left_child\n",
    "        \n",
    "        elif i in ['+', '-', '*', '/']:\n",
    "            current_tree.root = i\n",
    "            current_tree.insert_right('')\n",
    "            p_stack.push(current_tree)\n",
    "            current_tree = current_tree.right_child\n",
    "            \n",
    "        elif  i.isdigit():\n",
    "            current_tree.root = int(i)\n",
    "            parent = p_stack.pop()\n",
    "            current_tree = parent\n",
    "            \n",
    "        elif i == ')':\n",
    "            parent = p_stack.pop()\n",
    "            current_tree = parent\n",
    "        \n",
    "        else:\n",
    "            raise ValueError(f\"Unknown operator: {i}\")\n",
    "            \n",
    "    return expr_tree"
   ]
  },
  {
   "cell_type": "code",
   "execution_count": 50,
   "id": "f63c1b2d",
   "metadata": {},
   "outputs": [],
   "source": [
    "a_tree = build_pares_tree('( 3 + ( 4 * 5 ) )')"
   ]
  },
  {
   "cell_type": "code",
   "execution_count": 38,
   "id": "5e056e30",
   "metadata": {},
   "outputs": [
    {
     "data": {
      "text/plain": [
       "5"
      ]
     },
     "execution_count": 38,
     "metadata": {},
     "output_type": "execute_result"
    }
   ],
   "source": [
    "a_tree.right_child.right_child.get_root_val()"
   ]
  },
  {
   "cell_type": "code",
   "execution_count": 39,
   "id": "21782527",
   "metadata": {},
   "outputs": [],
   "source": [
    "import operator"
   ]
  },
  {
   "cell_type": "code",
   "execution_count": 40,
   "id": "8d5012ef",
   "metadata": {},
   "outputs": [
    {
     "data": {
      "text/plain": [
       "7"
      ]
     },
     "execution_count": 40,
     "metadata": {},
     "output_type": "execute_result"
    }
   ],
   "source": [
    "operator.add(3, 4)"
   ]
  },
  {
   "cell_type": "code",
   "execution_count": 41,
   "id": "a031f056",
   "metadata": {},
   "outputs": [],
   "source": [
    "def evaluate(parse_tree):\n",
    "    operators = {\n",
    "        '+': operator.add,\n",
    "        '-': operator.sub,\n",
    "        '*': operator.mul,\n",
    "        '/': operator.truediv\n",
    "    }\n",
    "    \n",
    "    left_child = parse_tree.left_child\n",
    "    right_child = parse_tree.right_child\n",
    "    \n",
    "    if left_child and right_child:\n",
    "        fn = operators[parse_tree.root]\n",
    "        return fn(evaluate(left_child), evaluate(right_child))\n",
    "    else:\n",
    "        return parse_tree.root"
   ]
  },
  {
   "attachments": {
    "image.png": {
     "image/png": "[encoded data removed]"
    }
   },
   "cell_type": "markdown",
   "id": "a2dd077a",
   "metadata": {},
   "source": [
    "### 树的遍历\n",
    "\n",
    "![image.png](attachment:image.png)"
   ]
  },
  {
   "cell_type": "markdown",
   "id": "f1ccca8e",
   "metadata": {},
   "source": [
    "前序遍历: 先访问根节点，然后递归地前序遍历左子树，最后递归地前序遍历右子树。 例如从前往后阅读一本书。"
   ]
  },
  {
   "cell_type": "code",
   "execution_count": 54,
   "id": "8d2b1da3",
   "metadata": {},
   "outputs": [],
   "source": [
    "def preorder(tree):\n",
    "    \"\"\"\n",
    "    将前序遍历算法实现为外部函数\n",
    "    \"\"\"\n",
    "    if tree:\n",
    "        print(tree.root)\n",
    "        preorder(tree.left_child)\n",
    "        preorder(tree.right_child)"
   ]
  },
  {
   "cell_type": "code",
   "execution_count": 61,
   "id": "03e8c8f1",
   "metadata": {},
   "outputs": [
    {
     "name": "stdout",
     "output_type": "stream",
     "text": [
      "+\n",
      "/\n",
      "8\n",
      "2\n",
      "*\n",
      "4\n",
      "5\n"
     ]
    }
   ],
   "source": [
    "a = build_pares_tree('( ( 8 / 2 ) + ( 4 * 5 ) )')\n",
    "preorder(a)"
   ]
  },
  {
   "cell_type": "markdown",
   "id": "1eaa3d4b",
   "metadata": {},
   "source": [
    "后序遍历：先递归地后序遍历左子树，然后递归地后序遍历右子树，最后访问根节点。"
   ]
  },
  {
   "cell_type": "code",
   "execution_count": 7,
   "id": "d783ac30",
   "metadata": {},
   "outputs": [],
   "source": [
    "def postorder(tree):\n",
    "    \"\"\"\n",
    "    后序遍历函数\n",
    "    \"\"\"\n",
    "    if tree:\n",
    "        postorder(tree.left_child)\n",
    "        postorder(tree.right_child)\n",
    "        print(tree.root)"
   ]
  },
  {
   "cell_type": "code",
   "execution_count": 8,
   "id": "9ef67cc4",
   "metadata": {},
   "outputs": [
    {
     "name": "stdout",
     "output_type": "stream",
     "text": [
      "8\n",
      "2\n",
      "/\n",
      "4\n",
      "5\n",
      "*\n",
      "+\n"
     ]
    }
   ],
   "source": [
    "a = build_pares_tree('( ( 8 / 2 ) + ( 4 * 5 ) )')\n",
    "postorder(a)"
   ]
  },
  {
   "cell_type": "code",
   "execution_count": 4,
   "id": "2b16f4c0",
   "metadata": {},
   "outputs": [],
   "source": [
    "def postordereval(tree):\n",
    "    operators = {\n",
    "        '+': operator.add,\n",
    "        '-': operator.sub,\n",
    "        '*': operator.mul,\n",
    "        '/': operator.truediv\n",
    "    }\n",
    "    result_1 = None\n",
    "    result_2 = None\n",
    "    \n",
    "    if tree:\n",
    "        result_1 = postordereval(tree.left_child)\n",
    "        result_2 = postordereval(tree.right_child)\n",
    "        if result_1 and result_2:\n",
    "            return operators[tree](result_1, result_2)\n",
    "        return tree"
   ]
  },
  {
   "cell_type": "markdown",
   "id": "26af441e",
   "metadata": {},
   "source": [
    "中序遍历：先递归地中序遍历左子树，然后访问根节点，最后递归地中序遍历右子树。"
   ]
  },
  {
   "cell_type": "code",
   "execution_count": 11,
   "id": "1aa29787",
   "metadata": {},
   "outputs": [],
   "source": [
    "def inorder(tree):\n",
    "    if tree:\n",
    "        inorder(tree.left_child)\n",
    "        print(tree.root)\n",
    "        inorder(tree.right_child)"
   ]
  },
  {
   "cell_type": "code",
   "execution_count": 12,
   "id": "939d186c",
   "metadata": {},
   "outputs": [
    {
     "name": "stdout",
     "output_type": "stream",
     "text": [
      "8\n",
      "/\n",
      "2\n",
      "+\n",
      "4\n",
      "*\n",
      "5\n"
     ]
    }
   ],
   "source": [
    "a = build_pares_tree('( ( 8 / 2 ) + ( 4 * 5 ) )')\n",
    "inorder(a)"
   ]
  },
  {
   "cell_type": "markdown",
   "id": "9380fed7",
   "metadata": {},
   "source": [
    "### 利用二叉堆实现优先级队列"
   ]
  },
  {
   "cell_type": "code",
   "execution_count": 13,
   "id": "1d15c015",
   "metadata": {},
   "outputs": [],
   "source": [
    "from pythonds3.trees import BinaryHeap"
   ]
  },
  {
   "cell_type": "code",
   "execution_count": 14,
   "id": "33d7f4ec",
   "metadata": {},
   "outputs": [],
   "source": [
    "my_heap = BinaryHeap()"
   ]
  },
  {
   "cell_type": "code",
   "execution_count": 15,
   "id": "de5a40af",
   "metadata": {},
   "outputs": [],
   "source": [
    "my_heap.insert(5)"
   ]
  },
  {
   "cell_type": "code",
   "execution_count": 16,
   "id": "c1e90e44",
   "metadata": {},
   "outputs": [],
   "source": [
    "my_heap.insert(7)"
   ]
  },
  {
   "cell_type": "code",
   "execution_count": 17,
   "id": "c871caf2",
   "metadata": {},
   "outputs": [],
   "source": [
    "my_heap.insert(3)"
   ]
  },
  {
   "cell_type": "code",
   "execution_count": 18,
   "id": "dba53219",
   "metadata": {},
   "outputs": [],
   "source": [
    "my_heap.insert(11)"
   ]
  },
  {
   "cell_type": "code",
   "execution_count": 19,
   "id": "39720d81",
   "metadata": {},
   "outputs": [
    {
     "data": {
      "text/plain": [
       "3"
      ]
     },
     "execution_count": 19,
     "metadata": {},
     "output_type": "execute_result"
    }
   ],
   "source": [
    "my_heap.delete()"
   ]
  },
  {
   "cell_type": "code",
   "execution_count": 20,
   "id": "b8ffcd65",
   "metadata": {},
   "outputs": [
    {
     "data": {
      "text/plain": [
       "5"
      ]
     },
     "execution_count": 20,
     "metadata": {},
     "output_type": "execute_result"
    }
   ],
   "source": [
    "my_heap.delete()"
   ]
  },
  {
   "cell_type": "code",
   "execution_count": 21,
   "id": "145a8c00",
   "metadata": {},
   "outputs": [
    {
     "data": {
      "text/plain": [
       "7"
      ]
     },
     "execution_count": 21,
     "metadata": {},
     "output_type": "execute_result"
    }
   ],
   "source": [
    "my_heap.delete()"
   ]
  },
  {
   "cell_type": "code",
   "execution_count": 22,
   "id": "737872e5",
   "metadata": {},
   "outputs": [
    {
     "data": {
      "text/plain": [
       "11"
      ]
     },
     "execution_count": 22,
     "metadata": {},
     "output_type": "execute_result"
    }
   ],
   "source": [
    "my_heap.delete()"
   ]
  },
  {
   "cell_type": "markdown",
   "id": "f718345a",
   "metadata": {},
   "source": [
    "新建二叉堆"
   ]
  },
  {
   "cell_type": "code",
   "execution_count": null,
   "id": "f08286a8",
   "metadata": {},
   "outputs": [],
   "source": [
    "class BinaryHeap:\n",
    "    def __init__(self):\n",
    "        self._heap = []\n",
    "        \n",
    "    def insert(self, item):\n",
    "        self._heap.append(item)\n",
    "        self._perc_up(len(self._heap) - 1)\n",
    "        \n",
    "    def _perc_up(self, i):\n",
    "        while (i - 1) // 2 >= 0:\n",
    "            parent_idx = (i - 1) // 2\n",
    "            if self._heap[parent_idx] > self._heap[i]:\n",
    "                self._heap[parent_idx], self._heap[i] = self._heap[i], self._heap[parent_idx]\n",
    "            i = parent_idx\n",
    "            \n",
    "            "
   ]
  }
 ],
 "metadata": {
  "kernelspec": {
   "display_name": "Python 3 (ipykernel)",
   "language": "python",
   "name": "python3"
  },
  "language_info": {
   "codemirror_mode": {
    "name": "ipython",
    "version": 3
   },
   "file_extension": ".py",
   "mimetype": "text/x-python",
   "name": "python",
   "nbconvert_exporter": "python",
   "pygments_lexer": "ipython3",
   "version": "3.11.4"
  }
 },
 "nbformat": 4,
 "nbformat_minor": 5
}
