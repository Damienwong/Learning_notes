{
 "cells": [
  {
   "cell_type": "code",
   "execution_count": 3,
   "id": "41c09b2f",
   "metadata": {},
   "outputs": [],
   "source": [
    "## 使用数组实现列表的简单示例\n",
    "\n",
    "class ArrayList:\n",
    "    def __init__(self):\n",
    "        self.size_exponent = 0\n",
    "        self.max_size = 0\n",
    "        self.last_index = 0\n",
    "        self.my_array = []\n",
    "        \n",
    "    def append(self, val):\n",
    "        if self.last_index > self.max_size - 1:\n",
    "            self.__resize()\n",
    "        self.my_array[self.last_index] = val\n",
    "        self.last_index += 1\n",
    "        \n",
    "    def __resize(self):\n",
    "        new_size = 2 ** self.size_exponent\n",
    "        print('new_size = ', new_size)\n",
    "        New_array = [0] * new_size\n",
    "        for i in range(self.max_size):\n",
    "            new_array[i] = self.my_array[i]\n",
    "        \n",
    "        self.max_size = new_size\n",
    "        self.my_array = new_array\n",
    "        self.size_exponent += 1\n",
    "        \n",
    "    def __getitem__(self, idx):\n",
    "        if idx < self.last_index:\n",
    "            return self.my_array[idx]\n",
    "        raise LookupError(\"index out of bounds\")\n",
    "        \n",
    "    def __setitem__(self, idx, val):\n",
    "        if idx < self.last_index:\n",
    "            self.my_array[idx] = val\n",
    "        raise LookupError(\"index out of bounds\")\n",
    "        \n",
    "    def insert(self, idx, val):\n",
    "        if self.last_index > self.max_size - 1:\n",
    "            self.__resize()\n",
    "        for i in range(self.last_index, idx - 1, -1):\n",
    "            self.my_array[i + 1] = self.my_array[i]\n",
    "        self.last_index += 1\n",
    "        self.my_array[idx] = val"
   ]
  },
  {
   "cell_type": "code",
   "execution_count": 10,
   "id": "784847d4",
   "metadata": {},
   "outputs": [],
   "source": [
    "##  取余加密函数\n",
    "\n",
    "def encrypt(m):\n",
    "    s = 'abcdefghijklmnopqrstuvwxyz'\n",
    "    n = ''\n",
    "    for i in m:\n",
    "        j = (s.find(i) + 13) % 26\n",
    "        n += s[j]\n",
    "        \n",
    "    return n"
   ]
  },
  {
   "cell_type": "code",
   "execution_count": 11,
   "id": "82989d8a",
   "metadata": {},
   "outputs": [
    {
     "data": {
      "text/plain": [
       "'helloworld'"
      ]
     },
     "execution_count": 11,
     "metadata": {},
     "output_type": "execute_result"
    }
   ],
   "source": [
    "encrypt('uryybjbeyq')"
   ]
  },
  {
   "cell_type": "markdown",
   "id": "ca2fbb4d",
   "metadata": {},
   "source": [
    "#### 用跳表实现字典"
   ]
  },
  {
   "cell_type": "code",
   "execution_count": 12,
   "id": "bfd8979f",
   "metadata": {},
   "outputs": [],
   "source": [
    "class HeaderNode:\n",
    "    def __init__(self):\n",
    "        self._next = None\n",
    "        self._done = None\n",
    "    \n",
    "    @property\n",
    "    def next(self):\n",
    "        return self._next\n",
    "    \n",
    "    @next.setter\n",
    "    def next(self, value):\n",
    "        self._next = value\n",
    "        \n",
    "    @property\n",
    "    def down(self):\n",
    "        return self._down\n",
    "    \n",
    "    @down.setter\n",
    "    def down(self, value):\n",
    "        self._down = value"
   ]
  },
  {
   "cell_type": "code",
   "execution_count": 13,
   "id": "7c0e023c",
   "metadata": {},
   "outputs": [],
   "source": [
    "class DataNode:\n",
    "    def __init__(self, key, value):\n",
    "        self._key = key\n",
    "        self._data = value\n",
    "        self._next = None\n",
    "        self._down = None\n",
    "        \n",
    "    @property\n",
    "    def key(self):\n",
    "        return self._key\n",
    "    \n",
    "    @property\n",
    "    def data(self):\n",
    "        return self._data\n",
    "    \n",
    "    @data.setter\n",
    "    def data(self, value):\n",
    "        self._data = value\n",
    "        \n",
    "    @property\n",
    "    def next(self):\n",
    "        return self._next\n",
    "    \n",
    "    @next.setter\n",
    "    def next(self, value):\n",
    "        self._next = value\n",
    "        \n",
    "    @property\n",
    "    def down(self):\n",
    "        return self._down\n",
    "    \n",
    "    @down.setter\n",
    "    def down(self, value):\n",
    "        self._down = value"
   ]
  },
  {
   "cell_type": "code",
   "execution_count": 14,
   "id": "29710808",
   "metadata": {},
   "outputs": [],
   "source": [
    "class SkipList:\n",
    "    def __init__(self):\n",
    "        self._head = None\n",
    "        \n",
    "    def search(self, key):\n",
    "        current = self._head\n",
    "        while current:\n",
    "            if current.next is None:\n",
    "                current = current.down\n",
    "            else:\n",
    "                if current.next.key == key:\n",
    "                    return current.next.data\n",
    "                elif key < current.next.key:\n",
    "                    current = current.down\n",
    "                else:\n",
    "                    current = current.next\n",
    "        return None"
   ]
  },
  {
   "cell_type": "markdown",
   "id": "5bd1881a",
   "metadata": {},
   "source": [
    "### 量化图片"
   ]
  },
  {
   "cell_type": "code",
   "execution_count": 23,
   "id": "07766633",
   "metadata": {},
   "outputs": [],
   "source": [
    "from PIL import Image\n",
    "\n",
    "def simple_quant(filename):\n",
    "    im = Image.open(filename)\n",
    "    w, h = im.size\n",
    "    for row in range(h):\n",
    "        for col in range(w):\n",
    "            r, g, b = im.getpixel((col, row))\n",
    "            r = r // 9 * 9\n",
    "            g = g // 9 * 9\n",
    "            b = b // 9 * 9\n",
    "            im.putpixel((col, row), (r, g, b))\n",
    "    im.show()"
   ]
  },
  {
   "cell_type": "code",
   "execution_count": 24,
   "id": "683af101",
   "metadata": {},
   "outputs": [],
   "source": [
    "simple_quant('tifa.jpg')"
   ]
  },
  {
   "cell_type": "code",
   "execution_count": null,
   "id": "7f3b0e42",
   "metadata": {},
   "outputs": [],
   "source": []
  }
 ],
 "metadata": {
  "kernelspec": {
   "display_name": "Python 3 (ipykernel)",
   "language": "python",
   "name": "python3"
  },
  "language_info": {
   "codemirror_mode": {
    "name": "ipython",
    "version": 3
   },
   "file_extension": ".py",
   "mimetype": "text/x-python",
   "name": "python",
   "nbconvert_exporter": "python",
   "pygments_lexer": "ipython3",
   "version": "3.11.4"
  }
 },
 "nbformat": 4,
 "nbformat_minor": 5
}
