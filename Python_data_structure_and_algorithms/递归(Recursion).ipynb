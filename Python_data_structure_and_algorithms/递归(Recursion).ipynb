{
 "cells": [
  {
   "cell_type": "markdown",
   "id": "fafb36e1",
   "metadata": {},
   "source": [
    "递归函数会调用自己。\n",
    "\n",
    "list_sum(num_list) = first(num_list) + list_sum(rest(num_list))\n",
    "\n",
    "$$S_{n} = a_n + S_{n-1}$$"
   ]
  },
  {
   "cell_type": "markdown",
   "id": "19732366",
   "metadata": {},
   "source": [
    "递归求和函数"
   ]
  },
  {
   "cell_type": "code",
   "execution_count": 3,
   "id": "8472b321",
   "metadata": {},
   "outputs": [],
   "source": [
    "def list_sum(num_list):\n",
    "    if len(num_list) == 1:\n",
    "        return num_list[0]\n",
    "    else:\n",
    "        return num_list[0] + list_sum(num_list[1:])"
   ]
  },
  {
   "cell_type": "code",
   "execution_count": 4,
   "id": "0cbca75c",
   "metadata": {},
   "outputs": [
    {
     "data": {
      "text/plain": [
       "15"
      ]
     },
     "execution_count": 4,
     "metadata": {},
     "output_type": "execute_result"
    }
   ],
   "source": [
    "list_sum([1, 2, 3, 4, 5])"
   ]
  },
  {
   "cell_type": "markdown",
   "id": "8f81b065",
   "metadata": {},
   "source": [
    "### 递归三原则\n",
    "- 递归算法必须有**基本情况**\n",
    "- 递归算法必须改变其状态并向基本情况靠近\n",
    "- 递归算法必须递归地调用自己"
   ]
  },
  {
   "cell_type": "markdown",
   "id": "39da5d99",
   "metadata": {},
   "source": [
    "递归 整数转化为任意进制数地字符串"
   ]
  },
  {
   "cell_type": "code",
   "execution_count": 7,
   "id": "4f8604f0",
   "metadata": {},
   "outputs": [],
   "source": [
    "def to_str(n, base):\n",
    "    convert_string = '0123456789ABCDEF'\n",
    "    if n < base:\n",
    "        return convert_string[n]\n",
    "    else:\n",
    "        return to_str(n // base, base) + convert_string[n % base]"
   ]
  },
  {
   "cell_type": "code",
   "execution_count": 8,
   "id": "2f3c0a1b",
   "metadata": {},
   "outputs": [
    {
     "data": {
      "text/plain": [
       "'1111'"
      ]
     },
     "execution_count": 8,
     "metadata": {},
     "output_type": "execute_result"
    }
   ],
   "source": [
    "to_str(15, 2)"
   ]
  },
  {
   "cell_type": "markdown",
   "id": "f45727a0",
   "metadata": {},
   "source": [
    "### 可视化递归\n",
    "tutle模块，递归绘制图案"
   ]
  },
  {
   "cell_type": "code",
   "execution_count": 6,
   "id": "3945ce6e",
   "metadata": {},
   "outputs": [],
   "source": [
    "import turtle\n",
    "\n",
    "def draw_spiral(my_turtle, line_len):\n",
    "    if line_len > 0:\n",
    "        my_turtle.forward(line_len)\n",
    "        my_turtle.right(90)\n",
    "        draw_spiral(my_turtle, line_len - 5)\n",
    "\n",
    "my_turtle = turtle.Turtle()\n",
    "my_win = turtle.Screen()\n",
    "draw_spiral(my_turtle, 100)\n",
    "my_win.exitonclick()"
   ]
  },
  {
   "cell_type": "markdown",
   "id": "df247c4e",
   "metadata": {},
   "source": [
    "递归绘制分形树"
   ]
  },
  {
   "cell_type": "code",
   "execution_count": 9,
   "id": "6da11187",
   "metadata": {},
   "outputs": [],
   "source": [
    "def tree(branch_len, t):\n",
    "    if branch_len > 5:\n",
    "        t.forward(branch_len)\n",
    "        t.right(20)\n",
    "        tree(branch_len - 15, t)\n",
    "        \n",
    "        t.left(40)\n",
    "        tree(branch_len - 15, t)\n",
    "        t.right(20)\n",
    "        t.backward(branch_len)"
   ]
  },
  {
   "cell_type": "code",
   "execution_count": 14,
   "id": "af360906",
   "metadata": {},
   "outputs": [],
   "source": [
    "t = turtle.Turtle()\n",
    "my_win = turtle.Screen()\n",
    "t.left(90)\n",
    "t.up()\n",
    "t.backward(200)\n",
    "t.down()\n",
    "t.color('red')\n",
    "tree(110, t)\n",
    "my_win.exitonclick()"
   ]
  },
  {
   "cell_type": "markdown",
   "id": "4bd125c8",
   "metadata": {},
   "source": [
    "### 谢尔平斯基三角\n"
   ]
  },
  {
   "cell_type": "code",
   "execution_count": 30,
   "id": "ac908778",
   "metadata": {},
   "outputs": [],
   "source": [
    "import turtle\n",
    "import numpy as np\n",
    "\n",
    "def draw_triangle(points, color, my_turtle):\n",
    "    my_turtle.fillcolor(color)\n",
    "    my_turtle.up()\n",
    "    my_turtle.goto(points[0][0], points[0][1])\n",
    "    my_turtle.down()\n",
    "    my_turtle.begin_fill()\n",
    "    my_turtle.goto(points[1][0], points[1][1])\n",
    "    my_turtle.goto(points[2][0], points[2][1])\n",
    "    my_turtle.goto(points[0][0], points[0][1])\n",
    "    my_turtle.end_fill()\n",
    "\n",
    "def get_mid(p1, p2):\n",
    "    return ((p1[0] + p2[0]) / 2, (p1[1] + p2[1]) / 2)\n",
    "\n",
    "def sierpinski(points, degree, my_turtle):\n",
    "    colormap = [\n",
    "        'blue',\n",
    "        'red',\n",
    "        'green',\n",
    "        'white',\n",
    "        'yellow',\n",
    "        'orange'\n",
    "    ]\n",
    "    draw_triangle(points, colormap[degree], my_turtle)\n",
    "    if degree > 0:\n",
    "        sierpinski([points[0], get_mid(points[0], points[1]), get_mid(points[0], points[2])], degree - 1, my_turtle)\n",
    "        \n",
    "        sierpinski([points[1], get_mid(points[1], points[0]), get_mid(points[1], points[2])], degree - 1, my_turtle)\n",
    "        \n",
    "        sierpinski([points[2], get_mid(points[2], points[0]), get_mid(points[2], points[1])], degree - 1, my_turtle)\n",
    "        \n",
    "def main():\n",
    "    my_turtle = turtle.Turtle()\n",
    "    my_win = turtle.Screen()\n",
    "    my_points = [[-400, 400 - 400 * np.sqrt(3)], [0, 400], [400, 400 - 400 * np.sqrt(3)]]\n",
    "    sierpinski(my_points, 5, my_turtle)\n",
    "    my_win.exitonclick()"
   ]
  },
  {
   "cell_type": "code",
   "execution_count": 33,
   "id": "d125fb3d",
   "metadata": {},
   "outputs": [],
   "source": [
    "main()"
   ]
  },
  {
   "cell_type": "markdown",
   "id": "b69b3c0a",
   "metadata": {},
   "source": [
    "### 动态规划"
   ]
  },
  {
   "cell_type": "code",
   "execution_count": 1,
   "id": "3efa85a4",
   "metadata": {},
   "outputs": [],
   "source": [
    "def make_change_1(coin_denoms, change):\n",
    "    if change in coin_denoms:\n",
    "        return 1\n",
    "    min_coins = float('inf')\n",
    "    for i in [c for c in coin_denoms if c <= change]:\n",
    "        num_coins = 1 + make_change_1(coin_denoms, change - i)\n",
    "        min_coins = min(num_coins, min_coins)\n",
    "        \n",
    "    return min_coins"
   ]
  },
  {
   "cell_type": "code",
   "execution_count": 2,
   "id": "39ebffce",
   "metadata": {},
   "outputs": [
    {
     "data": {
      "text/plain": [
       "6"
      ]
     },
     "execution_count": 2,
     "metadata": {},
     "output_type": "execute_result"
    }
   ],
   "source": [
    "make_change_1((1, 5, 10, 25), 63)"
   ]
  },
  {
   "cell_type": "code",
   "execution_count": 4,
   "id": "0e5ff7df",
   "metadata": {},
   "outputs": [],
   "source": [
    "def make_change_2(coin_value_list, change, known_results):\n",
    "    min_coins = change\n",
    "    if change in coin_value_list:\n",
    "        known_results[change] = 1\n",
    "        return 1\n",
    "    elif known_results[change] > 0:\n",
    "        return known_results[change]\n",
    "    else:\n",
    "        for i in [c for c in coin_value_list if c <= change]:\n",
    "            num_coins = 1 + make_change_2(coin_value_list, change - i, known_results)\n",
    "            if num_coins < min_coins:\n",
    "                min_coins = num_coins\n",
    "            known_results[change] = min_coins\n",
    "    return min_coins"
   ]
  },
  {
   "cell_type": "code",
   "execution_count": 12,
   "id": "22d5f6c9",
   "metadata": {},
   "outputs": [
    {
     "data": {
      "text/plain": [
       "6"
      ]
     },
     "execution_count": 12,
     "metadata": {},
     "output_type": "execute_result"
    }
   ],
   "source": [
    "make_change_2([1, 5, 10, 25], 63, [0] * 64)"
   ]
  },
  {
   "cell_type": "code",
   "execution_count": 13,
   "id": "77f3a067",
   "metadata": {},
   "outputs": [],
   "source": [
    "def make_change_3(coin_value_list, change, min_coins):\n",
    "    for cents in range(change + 1):\n",
    "        coin_count = cents\n",
    "        \n",
    "        for j in [c for c in coin_value_list if c <= cents]:\n",
    "            if min_coins[cents - j] < coin_count:\n",
    "                coin_count = min_coins[cents - j] + 1\n",
    "            min_coins[cents] = coin_count\n",
    "        print(min_coins)\n",
    "            \n",
    "    return min_coins[change]"
   ]
  },
  {
   "cell_type": "code",
   "execution_count": 15,
   "id": "e244edfa",
   "metadata": {},
   "outputs": [
    {
     "name": "stdout",
     "output_type": "stream",
     "text": [
      "[0, 0, 0, 0, 0, 0, 0, 0, 0, 0, 0, 0]\n",
      "[0, 1, 0, 0, 0, 0, 0, 0, 0, 0, 0, 0]\n",
      "[0, 1, 2, 0, 0, 0, 0, 0, 0, 0, 0, 0]\n",
      "[0, 1, 2, 3, 0, 0, 0, 0, 0, 0, 0, 0]\n",
      "[0, 1, 2, 3, 4, 0, 0, 0, 0, 0, 0, 0]\n",
      "[0, 1, 2, 3, 4, 1, 0, 0, 0, 0, 0, 0]\n",
      "[0, 1, 2, 3, 4, 1, 2, 0, 0, 0, 0, 0]\n",
      "[0, 1, 2, 3, 4, 1, 2, 3, 0, 0, 0, 0]\n",
      "[0, 1, 2, 3, 4, 1, 2, 3, 4, 0, 0, 0]\n",
      "[0, 1, 2, 3, 4, 1, 2, 3, 4, 5, 0, 0]\n",
      "[0, 1, 2, 3, 4, 1, 2, 3, 4, 5, 1, 0]\n",
      "[0, 1, 2, 3, 4, 1, 2, 3, 4, 5, 1, 2]\n"
     ]
    },
    {
     "data": {
      "text/plain": [
       "2"
      ]
     },
     "execution_count": 15,
     "metadata": {},
     "output_type": "execute_result"
    }
   ],
   "source": [
    "make_change_3([1, 5, 10, 25], 11, [0] * 12)"
   ]
  },
  {
   "cell_type": "code",
   "execution_count": null,
   "id": "ad4f69a6",
   "metadata": {},
   "outputs": [],
   "source": []
  }
 ],
 "metadata": {
  "kernelspec": {
   "display_name": "Python 3 (ipykernel)",
   "language": "python",
   "name": "python3"
  },
  "language_info": {
   "codemirror_mode": {
    "name": "ipython",
    "version": 3
   },
   "file_extension": ".py",
   "mimetype": "text/x-python",
   "name": "python",
   "nbconvert_exporter": "python",
   "pygments_lexer": "ipython3",
   "version": "3.11.4"
  }
 },
 "nbformat": 4,
 "nbformat_minor": 5
}
