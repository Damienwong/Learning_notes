{
 "cells": [
  {
   "cell_type": "markdown",
   "id": "b5097540",
   "metadata": {},
   "source": [
    "## 1. 不显式调用父类初始化\n",
    "- 如果子类没有定义`__init__`方法：会自动调用父类的*`__init__`\n",
    "- 如果子类定义了`__init__`但没调用`super().__init__()`：父类的`__init__`不会被执行"
   ]
  },
  {
   "cell_type": "code",
   "execution_count": 2,
   "id": "d0148a05",
   "metadata": {},
   "outputs": [
    {
     "name": "stdout",
     "output_type": "stream",
     "text": [
      "Parent __init__\n",
      "100\n",
      "ChildB __init__\n",
      "200\n"
     ]
    },
    {
     "ename": "AttributeError",
     "evalue": "'ChildB' object has no attribute 'parent_value'",
     "output_type": "error",
     "traceback": [
      "\u001b[1;31m---------------------------------------------------------------------------\u001b[0m",
      "\u001b[1;31mAttributeError\u001b[0m                            Traceback (most recent call last)",
      "Cell \u001b[1;32mIn[2], line 21\u001b[0m\n\u001b[0;32m     19\u001b[0m b \u001b[38;5;241m=\u001b[39m ChildB()  \u001b[38;5;66;03m# 只输出: ChildB __init__\u001b[39;00m\n\u001b[0;32m     20\u001b[0m \u001b[38;5;28mprint\u001b[39m(b\u001b[38;5;241m.\u001b[39mchild_value)  \u001b[38;5;66;03m# 输出: 200\u001b[39;00m\n\u001b[1;32m---> 21\u001b[0m \u001b[38;5;28mprint\u001b[39m(\u001b[43mb\u001b[49m\u001b[38;5;241;43m.\u001b[39;49m\u001b[43mparent_value\u001b[49m)\n",
      "\u001b[1;31mAttributeError\u001b[0m: 'ChildB' object has no attribute 'parent_value'"
     ]
    }
   ],
   "source": [
    "class Parent:\n",
    "    def __init__(self):\n",
    "        print(\"Parent __init__\")\n",
    "        self.parent_value = 100\n",
    "\n",
    "# 情况1：子类没有__init__\n",
    "class ChildA(Parent):\n",
    "    pass\n",
    "\n",
    "a = ChildA()  # 输出: Parent __init__\n",
    "print(a.parent_value)  # 输出: 100\n",
    "\n",
    "# 情况2：子类有__init__但不调用父类\n",
    "class ChildB(Parent):\n",
    "    def __init__(self):\n",
    "        print(\"ChildB __init__\")\n",
    "        self.child_value = 200\n",
    "\n",
    "b = ChildB()  # 只输出: ChildB __init__\n",
    "print(b.child_value)  # 输出: 200\n",
    "print(b.parent_value)  # 会报错，因为Parent.__init__没执行"
   ]
  },
  {
   "cell_type": "markdown",
   "id": "84016f72",
   "metadata": {},
   "source": [
    "### 显式调用父类初始化的方式：\n",
    "- `super().__init__()`\n",
    "- `ParentClass.__init__(self)`"
   ]
  },
  {
   "cell_type": "code",
   "execution_count": 3,
   "id": "c98521d5",
   "metadata": {},
   "outputs": [
    {
     "name": "stdout",
     "output_type": "stream",
     "text": [
      "Child __init__ - before super\n",
      "Parent __init__\n",
      "Child __init__ - after super\n",
      "100 200\n"
     ]
    }
   ],
   "source": [
    "class Parent:\n",
    "    def __init__(self):\n",
    "        print(\"Parent __init__\")\n",
    "        self.parent_value = 100\n",
    "\n",
    "class Child(Parent):\n",
    "    def __init__(self):\n",
    "        print(\"Child __init__ - before super\")\n",
    "        super().__init__()  # 显式调用\n",
    "        print(\"Child __init__ - after super\")\n",
    "        self.child_value = 200\n",
    "\n",
    "c = Child()\n",
    "# 输出:\n",
    "# Child __init__ - before super\n",
    "# Parent __init__\n",
    "# Child __init__ - after super\n",
    "print(c.parent_value, c.child_value)  # 输出: 100 200"
   ]
  },
  {
   "cell_type": "code",
   "execution_count": null,
   "id": "6e3e9fe3",
   "metadata": {},
   "outputs": [],
   "source": []
  }
 ],
 "metadata": {
  "kernelspec": {
   "display_name": "Python 3 (ipykernel)",
   "language": "python",
   "name": "python3"
  },
  "language_info": {
   "codemirror_mode": {
    "name": "ipython",
    "version": 3
   },
   "file_extension": ".py",
   "mimetype": "text/x-python",
   "name": "python",
   "nbconvert_exporter": "python",
   "pygments_lexer": "ipython3",
   "version": "3.10.11"
  }
 },
 "nbformat": 4,
 "nbformat_minor": 5
}
