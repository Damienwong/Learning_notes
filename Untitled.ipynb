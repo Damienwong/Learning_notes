{
 "cells": [
  {
   "cell_type": "code",
   "execution_count": 1,
   "id": "98d93654",
   "metadata": {},
   "outputs": [
    {
     "data": {
      "text/plain": [
       "28.50125"
      ]
     },
     "execution_count": 1,
     "metadata": {},
     "output_type": "execute_result"
    }
   ],
   "source": [
    "(28.6+28.6+30.8+28+28+28.32+28+28+28.32+29.375+28+28)/12"
   ]
  },
  {
   "cell_type": "code",
   "execution_count": 2,
   "id": "f5537ea1",
   "metadata": {},
   "outputs": [
    {
     "data": {
      "text/plain": [
       "342.015"
      ]
     },
     "execution_count": 2,
     "metadata": {},
     "output_type": "execute_result"
    }
   ],
   "source": [
    "28.6+28.6+30.8+28+28+28.32+28+28+28.32+29.375+28+28"
   ]
  },
  {
   "cell_type": "code",
   "execution_count": 4,
   "id": "3a5f0b09",
   "metadata": {},
   "outputs": [
    {
     "data": {
      "text/plain": [
       "248682.024"
      ]
     },
     "execution_count": 4,
     "metadata": {},
     "output_type": "execute_result"
    }
   ],
   "source": [
    "a = 22.3\n",
    "((a-1.63) * 341 + (a-0.85) * 250 + (a - 3.3) * 944 + (a-1.75) * 204) * 7.2"
   ]
  },
  {
   "cell_type": "code",
   "execution_count": 5,
   "id": "81bfbf3e",
   "metadata": {},
   "outputs": [
    {
     "data": {
      "text/plain": [
       "62.830000000000005"
      ]
     },
     "execution_count": 5,
     "metadata": {},
     "output_type": "execute_result"
    }
   ],
   "source": [
    "2.85*12 + 4.63 + 24"
   ]
  },
  {
   "cell_type": "code",
   "execution_count": 6,
   "id": "1c66a92e",
   "metadata": {},
   "outputs": [
    {
     "data": {
      "text/plain": [
       "80.60000000000001"
      ]
     },
     "execution_count": 6,
     "metadata": {},
     "output_type": "execute_result"
    }
   ],
   "source": [
    "62*1.3"
   ]
  },
  {
   "cell_type": "code",
   "execution_count": 14,
   "id": "c4c1fee3",
   "metadata": {},
   "outputs": [
    {
     "data": {
      "text/plain": [
       "76.79"
      ]
     },
     "execution_count": 14,
     "metadata": {},
     "output_type": "execute_result"
    }
   ],
   "source": [
    "2.85 * 12 + 17.72 + 24.87"
   ]
  },
  {
   "cell_type": "code",
   "execution_count": 10,
   "id": "328a5b64",
   "metadata": {},
   "outputs": [
    {
     "data": {
      "text/plain": [
       "6961"
      ]
     },
     "execution_count": 10,
     "metadata": {},
     "output_type": "execute_result"
    }
   ],
   "source": [
    "1366+1000+3777+818"
   ]
  },
  {
   "cell_type": "code",
   "execution_count": 11,
   "id": "9bd2c2ee",
   "metadata": {},
   "outputs": [
    {
     "data": {
      "text/plain": [
       "1117658.1600000001"
      ]
     },
     "execution_count": 11,
     "metadata": {},
     "output_type": "execute_result"
    }
   ],
   "source": [
    "6961 * 22.3 * 7.2"
   ]
  },
  {
   "cell_type": "code",
   "execution_count": 12,
   "id": "c5ccb632",
   "metadata": {},
   "outputs": [
    {
     "data": {
      "text/plain": [
       "537144.264"
      ]
     },
     "execution_count": 12,
     "metadata": {},
     "output_type": "execute_result"
    }
   ],
   "source": [
    "a = 22.3\n",
    "((a-1.63) * 341 + (a-0.85) * 250 + (a - 3.3) * 944 * 3 + (a-1.75) * 408) * 7.2"
   ]
  },
  {
   "cell_type": "code",
   "execution_count": 13,
   "id": "ed6efdee",
   "metadata": {},
   "outputs": [
    {
     "data": {
      "text/plain": [
       "160.56"
      ]
     },
     "execution_count": 13,
     "metadata": {},
     "output_type": "execute_result"
    }
   ],
   "source": [
    "22.3*7.2"
   ]
  },
  {
   "cell_type": "code",
   "execution_count": null,
   "id": "3370af2d",
   "metadata": {},
   "outputs": [],
   "source": []
  }
 ],
 "metadata": {
  "kernelspec": {
   "display_name": "Python 3 (ipykernel)",
   "language": "python",
   "name": "python3"
  },
  "language_info": {
   "codemirror_mode": {
    "name": "ipython",
    "version": 3
   },
   "file_extension": ".py",
   "mimetype": "text/x-python",
   "name": "python",
   "nbconvert_exporter": "python",
   "pygments_lexer": "ipython3",
   "version": "3.10.11"
  }
 },
 "nbformat": 4,
 "nbformat_minor": 5
}
