{
 "cells": [
  {
   "cell_type": "markdown",
   "id": "d7385c26",
   "metadata": {},
   "source": [
    "# 函数装饰器"
   ]
  },
  {
   "cell_type": "markdown",
   "id": "4edd2cf2",
   "metadata": {},
   "source": [
    "函数装饰器，允许在不修改原始函数代码的情况下，通过将函数传递给另一个函数来增强或修改函数的行为。装饰器通常用于添加额外的功能、日志记录、权限检查等。"
   ]
  },
  {
   "cell_type": "markdown",
   "id": "9680d6c0",
   "metadata": {},
   "source": [
    "装饰器本质上是一个函数，它接受一个函数作为参数，并返回一个新的函数。"
   ]
  },
  {
   "cell_type": "code",
   "execution_count": 6,
   "id": "1f573e20",
   "metadata": {},
   "outputs": [],
   "source": [
    "def my_decorator(func):\n",
    "    def wrapper(*args, **kwargs):\n",
    "        # 在调用原始函数之前执行的代码\n",
    "        print(\"Do this before the func is called.\")\n",
    "        # 调用原始函数\n",
    "        result = func(*args, **kwargs)\n",
    "        # 在调用原始函数之后执行的代码\n",
    "        print(\"Do this after the func is called.\")\n",
    "        return result\n",
    "    return wrapper\n",
    "\n",
    "# 使用装饰器来修饰一个函数\n",
    "@my_decorator\n",
    "def say_hello(name):\n",
    "    print('Hello {}'.format(name))\n",
    "    return name"
   ]
  },
  {
   "cell_type": "code",
   "execution_count": 7,
   "id": "7d74831e",
   "metadata": {},
   "outputs": [
    {
     "name": "stdout",
     "output_type": "stream",
     "text": [
      "Do this before the func is called.\n",
      "Hello Lee\n",
      "Do this after the func is called.\n",
      "========== Lee\n"
     ]
    }
   ],
   "source": [
    "#调用被装饰后的函数\n",
    "n = say_hello('Lee')\n",
    "print('==========', n)"
   ]
  },
  {
   "cell_type": "markdown",
   "id": "d8032ccb",
   "metadata": {},
   "source": [
    "### 上面的使用方式，与下面这种早期的调用方式，效果一致："
   ]
  },
  {
   "cell_type": "code",
   "execution_count": 10,
   "id": "b8856469",
   "metadata": {},
   "outputs": [
    {
     "name": "stdout",
     "output_type": "stream",
     "text": [
      "<class 'function'>\n",
      "Do this before the func is called.\n",
      "Hello Lee\n",
      "Do this after the func is called.\n",
      "======== Lee\n"
     ]
    }
   ],
   "source": [
    "def my_decorator(func):\n",
    "    def wrapper(*args, **kwargs):\n",
    "        # 在调用原始函数之前执行的代码\n",
    "        print(\"Do this before the func is called.\")\n",
    "        # 调用原始函数\n",
    "        result = func(*args, **kwargs)\n",
    "        # 在调用原始函数之后执行的代码\n",
    "        print(\"Do this after the func is called.\")\n",
    "        return result\n",
    "    return wrapper\n",
    "\n",
    "\n",
    "def say_hello(name):\n",
    "    print('Hello {}'.format(name))\n",
    "    return name\n",
    "\n",
    "\n",
    "func_d = my_decorator(say_hello)\n",
    "print(type(func_d))\n",
    "\n",
    "n = func_d('Lee')\n",
    "print('========', n)\n",
    "\n"
   ]
  },
  {
   "cell_type": "markdown",
   "id": "27941345",
   "metadata": {},
   "source": [
    "### 装饰器带参\n",
    "不同场景使用函数的方式不同，可以对装饰器再加一层函数，然后在@声明时传递参数。\n",
    "\n",
    "早期调用方式可采用三层链式调用。"
   ]
  },
  {
   "cell_type": "code",
   "execution_count": 9,
   "id": "f81e3b6c",
   "metadata": {},
   "outputs": [
    {
     "name": "stdout",
     "output_type": "stream",
     "text": [
      "Do this before the func is called Regularly.\n",
      "Hello Lee\n",
      "Do this after the func is called.\n",
      "================ Lee\n"
     ]
    }
   ],
   "source": [
    "def occasion(params):\n",
    "    def my_decorator(func):\n",
    "        def wrapper(*args, **kwargs):\n",
    "            # 在调用原始函数之前执行的代码\n",
    "            print(\"Do this before the func is called {}.\".format(params))\n",
    "            # 调用原始函数\n",
    "            result = func(*args, **kwargs)\n",
    "            # 在调用原始函数之后执行的代码\n",
    "            print(\"Do this after the func is called.\")\n",
    "            return result\n",
    "        return wrapper\n",
    "    return my_decorator\n",
    "\n",
    "\n",
    "@occasion('Regularly')\n",
    "def say_hello(name):\n",
    "    print('Hello {}'.format(name))\n",
    "    return name\n",
    "\n",
    "n = say_hello('Lee')\n",
    "print('================', n)"
   ]
  },
  {
   "cell_type": "markdown",
   "id": "6375a275",
   "metadata": {},
   "source": [
    "### 相当于三层函数定义和调用"
   ]
  },
  {
   "cell_type": "code",
   "execution_count": 11,
   "id": "ffa816f1",
   "metadata": {},
   "outputs": [
    {
     "name": "stdout",
     "output_type": "stream",
     "text": [
      "Do this before the func is called Regularly.\n",
      "Hello Lee\n",
      "Do this after the func is called.\n",
      "============== Lee\n"
     ]
    }
   ],
   "source": [
    "def occasion(params):\n",
    "    def my_decorator(func):\n",
    "        def wrapper(*args, **kwargs):\n",
    "            # 在调用原始函数之前执行的代码\n",
    "            print(\"Do this before the func is called {}.\".format(params))\n",
    "            # 调用原始函数\n",
    "            result = func(*args, **kwargs)\n",
    "            # 在调用原始函数之后执行的代码\n",
    "            print(\"Do this after the func is called.\")\n",
    "            return result\n",
    "        return wrapper\n",
    "    return my_decorator\n",
    "\n",
    "\n",
    "def say_hello(name):\n",
    "    print('Hello {}'.format(name))\n",
    "    return name\n",
    "\n",
    "n = occasion('Regularly')(say_hello)('Lee')\n",
    "print('==============', n)"
   ]
  },
  {
   "cell_type": "code",
   "execution_count": null,
   "id": "896bd1cc",
   "metadata": {},
   "outputs": [],
   "source": []
  }
 ],
 "metadata": {
  "kernelspec": {
   "display_name": "Python 3 (ipykernel)",
   "language": "python",
   "name": "python3"
  },
  "language_info": {
   "codemirror_mode": {
    "name": "ipython",
    "version": 3
   },
   "file_extension": ".py",
   "mimetype": "text/x-python",
   "name": "python",
   "nbconvert_exporter": "python",
   "pygments_lexer": "ipython3",
   "version": "3.11.4"
  }
 },
 "nbformat": 4,
 "nbformat_minor": 5
}
