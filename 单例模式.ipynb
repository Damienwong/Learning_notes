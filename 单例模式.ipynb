{
 "cells": [
  {
   "cell_type": "markdown",
   "id": "1a53af14",
   "metadata": {},
   "source": [
    "单例模式是一种常用的软件设计模式。单例模式要求在使用类的过程中只实例化一次，所有对象都共享一个实例"
   ]
  },
  {
   "cell_type": "code",
   "execution_count": 1,
   "id": "7f9d2a87",
   "metadata": {},
   "outputs": [
    {
     "name": "stdout",
     "output_type": "stream",
     "text": [
      "2479120742960 2479120742960\n",
      "Anzhou Anzhou\n"
     ]
    }
   ],
   "source": [
    "class Singleton(object):\n",
    "    def __new__(cls, *args, **kwargs):\n",
    "        if not hasattr(cls, '_instance'):\n",
    "            cls._instance = object.__new__(cls)\n",
    "        return cls._instance\n",
    "    \n",
    "    def __init__(self, name):\n",
    "        self.name = name\n",
    "\n",
    "if __name__ == \"__main__\":\n",
    "    a = Singleton('haibo')\n",
    "    b = Singleton('Anzhou')\n",
    "    print(id(a), id(b))\n",
    "    print(a.name, b.name)"
   ]
  },
  {
   "cell_type": "code",
   "execution_count": 3,
   "id": "8046d339",
   "metadata": {},
   "outputs": [
    {
     "name": "stdout",
     "output_type": "stream",
     "text": [
      "2479120741472 2479120741472\n",
      "Haibo Haibo\n"
     ]
    }
   ],
   "source": [
    "# 更优雅的使用装饰器的方式：不重复__init__初始化\n",
    "\n",
    "def singleton(cls):\n",
    "    instances = {}\n",
    "    def wrapper(*args, **kwargs):\n",
    "        if cls not in instances:\n",
    "            instances[cls] = cls(*args, **kwargs)\n",
    "        return instances[cls]\n",
    "    return wrapper\n",
    "\n",
    "@singleton\n",
    "class MyClass:\n",
    "    def __init__(self, name):\n",
    "        self.name = name\n",
    "\n",
    "if __name__ == \"__main__\":\n",
    "    a = MyClass('Haibo')\n",
    "    b = MyClass('Anzhou')\n",
    "    print(id(a), id(b))\n",
    "    print(a.name, b.name)"
   ]
  }
 ],
 "metadata": {
  "kernelspec": {
   "display_name": "Python 3 (ipykernel)",
   "language": "python",
   "name": "python3"
  },
  "language_info": {
   "codemirror_mode": {
    "name": "ipython",
    "version": 3
   },
   "file_extension": ".py",
   "mimetype": "text/x-python",
   "name": "python",
   "nbconvert_exporter": "python",
   "pygments_lexer": "ipython3",
   "version": "3.10.11"
  }
 },
 "nbformat": 4,
 "nbformat_minor": 5
}
