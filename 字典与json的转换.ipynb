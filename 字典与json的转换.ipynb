{
 "cells": [
  {
   "cell_type": "markdown",
   "id": "b7c841c1",
   "metadata": {},
   "source": [
    "#### Json\n",
    "JSON本质是满足某种特定格式的字符串。"
   ]
  },
  {
   "cell_type": "markdown",
   "id": "eb1dc98a",
   "metadata": {},
   "source": [
    "- loads()将json数据转化成字典数据；\n",
    "- dumps()将字典数据转化成json数据。"
   ]
  },
  {
   "cell_type": "code",
   "execution_count": 1,
   "id": "38860bed",
   "metadata": {},
   "outputs": [],
   "source": [
    "import json\n",
    "data = {'name': 'haibo',\n",
    "        'info': {'sex': 'male', 'age': '35', 'birth': '19890203'}}\n",
    "\n",
    "datajson = json.dumps(data)"
   ]
  },
  {
   "cell_type": "code",
   "execution_count": 2,
   "id": "a8faf9da",
   "metadata": {},
   "outputs": [
    {
     "data": {
      "text/plain": [
       "'{\"name\": \"haibo\", \"info\": {\"sex\": \"male\", \"age\": \"35\", \"birth\": \"19890203\"}}'"
      ]
     },
     "execution_count": 2,
     "metadata": {},
     "output_type": "execute_result"
    }
   ],
   "source": [
    "datajson"
   ]
  },
  {
   "cell_type": "code",
   "execution_count": 3,
   "id": "46a39daa",
   "metadata": {},
   "outputs": [
    {
     "data": {
      "text/plain": [
       "str"
      ]
     },
     "execution_count": 3,
     "metadata": {},
     "output_type": "execute_result"
    }
   ],
   "source": [
    "type(datajson)"
   ]
  },
  {
   "cell_type": "code",
   "execution_count": 4,
   "id": "58e27122",
   "metadata": {},
   "outputs": [],
   "source": [
    "data = '{\"name\": \"haibo\", \"info\": {\"sex\": \"male\", \"age\": \"35\", \"birth\": \"19890203\"}}'\n",
    "datadict = json.loads(data)"
   ]
  },
  {
   "cell_type": "code",
   "execution_count": 5,
   "id": "6f359776",
   "metadata": {},
   "outputs": [
    {
     "data": {
      "text/plain": [
       "{'name': 'haibo', 'info': {'sex': 'male', 'age': '35', 'birth': '19890203'}}"
      ]
     },
     "execution_count": 5,
     "metadata": {},
     "output_type": "execute_result"
    }
   ],
   "source": [
    "datadict"
   ]
  },
  {
   "cell_type": "code",
   "execution_count": 6,
   "id": "430fc17c",
   "metadata": {},
   "outputs": [
    {
     "data": {
      "text/plain": [
       "dict"
      ]
     },
     "execution_count": 6,
     "metadata": {},
     "output_type": "execute_result"
    }
   ],
   "source": [
    "type(datadict)"
   ]
  },
  {
   "cell_type": "code",
   "execution_count": null,
   "id": "6b41b0e8",
   "metadata": {},
   "outputs": [],
   "source": []
  }
 ],
 "metadata": {
  "kernelspec": {
   "display_name": "Python 3 (ipykernel)",
   "language": "python",
   "name": "python3"
  },
  "language_info": {
   "codemirror_mode": {
    "name": "ipython",
    "version": 3
   },
   "file_extension": ".py",
   "mimetype": "text/x-python",
   "name": "python",
   "nbconvert_exporter": "python",
   "pygments_lexer": "ipython3",
   "version": "3.10.11"
  }
 },
 "nbformat": 4,
 "nbformat_minor": 5
}
