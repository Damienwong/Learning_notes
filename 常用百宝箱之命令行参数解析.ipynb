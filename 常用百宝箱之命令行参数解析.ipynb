{
 "cells": [
  {
   "cell_type": "markdown",
   "id": "88ddef92",
   "metadata": {},
   "source": [
    "# 命令行参数解析库\n",
    "## 内部模块\n",
    "- sys.argv\n",
    "- argparse\n",
    "- getopt\n",
    "## 外部模块\n",
    "- click"
   ]
  },
  {
   "cell_type": "code",
   "execution_count": null,
   "id": "c41da6dd",
   "metadata": {},
   "outputs": [],
   "source": []
  }
 ],
 "metadata": {
  "kernelspec": {
   "display_name": "Python 3 (ipykernel)",
   "language": "python",
   "name": "python3"
  },
  "language_info": {
   "codemirror_mode": {
    "name": "ipython",
    "version": 3
   },
   "file_extension": ".py",
   "mimetype": "text/x-python",
   "name": "python",
   "nbconvert_exporter": "python",
   "pygments_lexer": "ipython3",
   "version": "3.10.11"
  }
 },
 "nbformat": 4,
 "nbformat_minor": 5
}
