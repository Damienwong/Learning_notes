{
 "cells": [
  {
   "cell_type": "markdown",
   "id": "192f1684",
   "metadata": {},
   "source": [
    "处理异常的关键字：\n",
    "- try: 用于检测异常，在程序发生异常时将异常信息交给except关键字；\n",
    "- except: 获取异常并进行处理；\n",
    "- else: 当执行完try关键字域中的代码，如果没有发生异常，则接着执行else关键字域中的代码；\n",
    "- finally：无论是否发生异常都进入该关键字域进行处理，通常用于处理资源关闭、对象内存释放等必需的操作；\n",
    "- raise: 用于抛出自定义的异常信息使程序不能直接向下执行"
   ]
  },
  {
   "cell_type": "code",
   "execution_count": 1,
   "id": "797cb2b7",
   "metadata": {},
   "outputs": [
    {
     "name": "stdout",
     "output_type": "stream",
     "text": [
      "请输入一个整数: adf\n",
      "输入的不是有效整数!\n"
     ]
    }
   ],
   "source": [
    "# 处理特定异常\n",
    "try:\n",
    "    num = int(input(\"请输入一个整数: \"))\n",
    "    print(f\"你输入的数字是: {num}\")\n",
    "except ValueError:\n",
    "    print(\"输入的不是有效整数!\")"
   ]
  },
  {
   "cell_type": "code",
   "execution_count": 2,
   "id": "46e393cf",
   "metadata": {},
   "outputs": [
    {
     "name": "stdout",
     "output_type": "stream",
     "text": [
      "文件不存在!\n"
     ]
    }
   ],
   "source": [
    "# 处理多个异常\n",
    "try:\n",
    "    file = open(\"nonexistent.txt\", \"r\")\n",
    "    content = file.read()\n",
    "    number = int(content)\n",
    "except FileNotFoundError:\n",
    "    print(\"文件不存在!\")\n",
    "except ValueError:\n",
    "    print(\"文件内容不是有效数字!\")\n",
    "except Exception as e:\n",
    "    print(f\"发生了未知错误: {e}\")"
   ]
  },
  {
   "cell_type": "code",
   "execution_count": 3,
   "id": "6cc823bd",
   "metadata": {},
   "outputs": [
    {
     "name": "stdout",
     "output_type": "stream",
     "text": [
      "计算成功，结果是: 5.0\n"
     ]
    }
   ],
   "source": [
    "# else 子句\n",
    "try:\n",
    "    # 尝试执行的代码\n",
    "    result = 10 / 2\n",
    "except ZeroDivisionError:\n",
    "    print(\"除以零错误!\")\n",
    "else:\n",
    "    print(\"计算成功，结果是:\", result)"
   ]
  },
  {
   "cell_type": "code",
   "execution_count": 5,
   "id": "f04b43bd",
   "metadata": {},
   "outputs": [
    {
     "name": "stdout",
     "output_type": "stream",
     "text": [
      "文件不存在!\n",
      "执行清理操作...\n"
     ]
    }
   ],
   "source": [
    "# finally 子句\n",
    "try:\n",
    "    file = open(\"example.txt\", \"r\")\n",
    "    content = file.read()\n",
    "    print(content)\n",
    "except FileNotFoundError:\n",
    "    print(\"文件不存在!\")\n",
    "finally:\n",
    "    # 无论是否发生异常都会执行\n",
    "    print(\"执行清理操作...\")\n",
    "    # file.close()  # 确保文件被关闭"
   ]
  },
  {
   "cell_type": "code",
   "execution_count": 6,
   "id": "f8741c11",
   "metadata": {},
   "outputs": [
    {
     "name": "stdout",
     "output_type": "stream",
     "text": [
      "错误: 年龄不能为负数\n"
     ]
    }
   ],
   "source": [
    "# raise 子句\n",
    "def validate_age(age):\n",
    "    if age < 0:\n",
    "        raise ValueError(\"年龄不能为负数\")  # 主动异常\n",
    "    elif age < 18:\n",
    "        raise ValueError(\"未成年人禁止访问\")\n",
    "    else:\n",
    "        print(\"访问允许\")\n",
    "    print(\"判断完毕\")\n",
    "\n",
    "try:\n",
    "    validate_age(-5)\n",
    "except ValueError as e:\n",
    "    print(f\"错误: {e}\")"
   ]
  },
  {
   "cell_type": "code",
   "execution_count": 9,
   "id": "bbeae684",
   "metadata": {},
   "outputs": [
    {
     "name": "stdout",
     "output_type": "stream",
     "text": [
      "自定义错误: 值不能为负数\n"
     ]
    }
   ],
   "source": [
    "# 自定义异常\n",
    "class MyCustomError(Exception):\n",
    "    \"\"\"自定义异常类\"\"\"\n",
    "    pass\n",
    "\n",
    "def check_value(value):\n",
    "    if value < 0:\n",
    "        raise MyCustomError(\"值不能为负数\")\n",
    "    return value * 2\n",
    "\n",
    "try:\n",
    "    result = check_value(-6)\n",
    "except MyCustomError as e:\n",
    "    print(f\"自定义错误: {e}\")\n",
    "else:\n",
    "    print(\"结果是:\", result)"
   ]
  },
  {
   "cell_type": "code",
   "execution_count": null,
   "id": "e01f1b34",
   "metadata": {},
   "outputs": [],
   "source": []
  }
 ],
 "metadata": {
  "kernelspec": {
   "display_name": "Python 3 (ipykernel)",
   "language": "python",
   "name": "python3"
  },
  "language_info": {
   "codemirror_mode": {
    "name": "ipython",
    "version": 3
   },
   "file_extension": ".py",
   "mimetype": "text/x-python",
   "name": "python",
   "nbconvert_exporter": "python",
   "pygments_lexer": "ipython3",
   "version": "3.10.11"
  }
 },
 "nbformat": 4,
 "nbformat_minor": 5
}
