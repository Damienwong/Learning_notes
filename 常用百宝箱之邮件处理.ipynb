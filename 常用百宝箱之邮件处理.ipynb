{
 "cells": [
  {
   "cell_type": "code",
   "execution_count": 2,
   "id": "0a1d1767",
   "metadata": {},
   "outputs": [
    {
     "name": "stdout",
     "output_type": "stream",
     "text": [
      "邮件发送成功\n"
     ]
    }
   ],
   "source": [
    "from myemail import MyEmail\n",
    "\n",
    "myemail = MyEmail(\n",
    "    smtp_server='smtp.qq.com',\n",
    "    smtp_port=465,\n",
    "    username='454671404@qq.com',\n",
    "    password='erouqkyzcqwfbjca',\n",
    "    use_ssl=True\n",
    ")\n",
    "\n",
    "myemail.send_text(\n",
    "    subject='Test_Mail_Sending_Func',\n",
    "    text='This is a testing mail, hello world',\n",
    "    to_addrs='haibonewang@126.com',\n",
    "    from_name='王海波的QQ邮箱'\n",
    ")"
   ]
  },
  {
   "cell_type": "code",
   "execution_count": null,
   "id": "d69a21cc",
   "metadata": {},
   "outputs": [],
   "source": []
  }
 ],
 "metadata": {
  "kernelspec": {
   "display_name": "Python 3 (ipykernel)",
   "language": "python",
   "name": "python3"
  },
  "language_info": {
   "codemirror_mode": {
    "name": "ipython",
    "version": 3
   },
   "file_extension": ".py",
   "mimetype": "text/x-python",
   "name": "python",
   "nbconvert_exporter": "python",
   "pygments_lexer": "ipython3",
   "version": "3.10.11"
  }
 },
 "nbformat": 4,
 "nbformat_minor": 5
}
