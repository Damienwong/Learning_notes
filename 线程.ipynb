{
 "cells": [
  {
   "cell_type": "markdown",
   "id": "067e8abd",
   "metadata": {},
   "source": [
    "# 启动与停止线程"
   ]
  },
  {
   "cell_type": "code",
   "execution_count": 1,
   "id": "89c1c43c",
   "metadata": {},
   "outputs": [
    {
     "name": "stdout",
     "output_type": "stream",
     "text": [
      "T-minus 10\n",
      "T-minus 9\n",
      "T-minus 8\n",
      "T-minus 7\n",
      "T-minus 6\n",
      "T-minus 5\n",
      "T-minus 4\n",
      "T-minus 3\n",
      "T-minus 2\n",
      "T-minus 1\n",
      "主进程结束\n"
     ]
    }
   ],
   "source": [
    "# Code to execute in an independent thread\n",
    "import time\n",
    "def countdown(n):\n",
    "    while n > 0:\n",
    "        print('T-minus', n)\n",
    "        n -= 1\n",
    "        time.sleep(5)\n",
    "\n",
    "# Create and launch a thread\n",
    "from threading import Thread\n",
    "t = Thread(target=countdown, args=(10,))\n",
    "t.start()\n",
    "t.join()  # 将线程加入到当前线程，并等待该线程终止\n",
    "print('主进程结束')"
   ]
  },
  {
   "cell_type": "markdown",
   "id": "495aae57",
   "metadata": {},
   "source": [
    "查询一个线程对象的状态"
   ]
  },
  {
   "cell_type": "code",
   "execution_count": 2,
   "id": "ade203bf",
   "metadata": {},
   "outputs": [
    {
     "name": "stdout",
     "output_type": "stream",
     "text": [
      "Dead\n"
     ]
    }
   ],
   "source": [
    "if t.is_alive():\n",
    "    print('still running')\n",
    "else:\n",
    "    print('Dead')"
   ]
  },
  {
   "cell_type": "markdown",
   "id": "0fcdf5b0",
   "metadata": {},
   "source": [
    "守护主线程 daemon = True （jupyter notebook中不适用）"
   ]
  },
  {
   "cell_type": "code",
   "execution_count": 9,
   "id": "5672d999",
   "metadata": {},
   "outputs": [
    {
     "name": "stdout",
     "output_type": "stream",
     "text": [
      "T-minus 10\n",
      "T-minus 9\n",
      "T-minus 8\n",
      "主进程结束了\n",
      "T-minus 7\n"
     ]
    }
   ],
   "source": [
    "import time\n",
    "from threading import Thread\n",
    "def countdown(n):\n",
    "    while n > 0:\n",
    "        print('T-minus', n)\n",
    "        n -= 1\n",
    "        time.sleep(5)\n",
    "\n",
    "t1 = Thread(target=countdown, args=(10,))\n",
    "t1.daemon = True\n",
    "t1.start()\n",
    "time.sleep(12)\n",
    "print('主进程结束了')"
   ]
  },
  {
   "cell_type": "code",
   "execution_count": 10,
   "id": "6a7c73d7",
   "metadata": {},
   "outputs": [
    {
     "data": {
      "text/plain": [
       "True"
      ]
     },
     "execution_count": 10,
     "metadata": {},
     "output_type": "execute_result"
    },
    {
     "name": "stdout",
     "output_type": "stream",
     "text": [
      "T-minus 6\n",
      "T-minus 5\n",
      "T-minus 4\n",
      "T-minus 3\n",
      "T-minus 2\n",
      "T-minus 1\n"
     ]
    }
   ],
   "source": [
    "t1.is_alive()"
   ]
  },
  {
   "cell_type": "code",
   "execution_count": null,
   "id": "823461c0",
   "metadata": {},
   "outputs": [],
   "source": []
  }
 ],
 "metadata": {
  "kernelspec": {
   "display_name": "Python 3 (ipykernel)",
   "language": "python",
   "name": "python3"
  },
  "language_info": {
   "codemirror_mode": {
    "name": "ipython",
    "version": 3
   },
   "file_extension": ".py",
   "mimetype": "text/x-python",
   "name": "python",
   "nbconvert_exporter": "python",
   "pygments_lexer": "ipython3",
   "version": "3.11.4"
  }
 },
 "nbformat": 4,
 "nbformat_minor": 5
}
