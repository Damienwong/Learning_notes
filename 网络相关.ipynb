{
 "cells": [
  {
   "cell_type": "markdown",
   "id": "7929d2f9",
   "metadata": {},
   "source": [
    "## 1. 回环地址"
   ]
  },
  {
   "cell_type": "markdown",
   "id": "8d5d066d",
   "metadata": {},
   "source": [
    "“127.0.0.1”是一个特殊的IP地址，通常称为“回环地址”（loopback address）或“本地主机”(localhost)。它用于将网络通信定向到本地计算机上，而不是通过网络接口进行通信。\n",
    "\n",
    "当一个程序连接到“127.0.0.1”或通过“127.0.0.1”监听端口时，它实际上是在与本地计算机上的自己通信。这对于测试网络服务、本地开发和调试应用程序非常有用，因为它允许应用程序模拟与其他计算机或服务的通信，而实际上所有通信都在本地进行。"
   ]
  },
  {
   "cell_type": "code",
   "execution_count": null,
   "id": "168fd129",
   "metadata": {},
   "outputs": [],
   "source": []
  }
 ],
 "metadata": {
  "kernelspec": {
   "display_name": "Python 3 (ipykernel)",
   "language": "python",
   "name": "python3"
  },
  "language_info": {
   "codemirror_mode": {
    "name": "ipython",
    "version": 3
   },
   "file_extension": ".py",
   "mimetype": "text/x-python",
   "name": "python",
   "nbconvert_exporter": "python",
   "pygments_lexer": "ipython3",
   "version": "3.11.4"
  }
 },
 "nbformat": 4,
 "nbformat_minor": 5
}
