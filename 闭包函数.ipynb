{
 "cells": [
  {
   "cell_type": "markdown",
   "id": "4308e293",
   "metadata": {},
   "source": [
    "### 闭包(Closure)是指函数内部定义的函数\n",
    "\n",
    "这个内部函数可以访问外部函数的变量，即使外部函数已经执行完毕，这些变量依然可以被内部函数访问和操作。"
   ]
  },
  {
   "cell_type": "markdown",
   "id": "4bc52c49",
   "metadata": {},
   "source": [
    "闭包的特点：\n",
    "- 定义在函数内部的函数；\n",
    "- 内部函数可以访问外部函数的局部变量；\n",
    "- 外部函数将内部函数作为返回值返回。"
   ]
  },
  {
   "cell_type": "code",
   "execution_count": 2,
   "id": "53290b1b",
   "metadata": {},
   "outputs": [
    {
     "name": "stdout",
     "output_type": "stream",
     "text": [
      "<function outer_func.<locals>.inner_func at 0x00000229EADD1080>\n"
     ]
    },
    {
     "data": {
      "text/plain": [
       "5"
      ]
     },
     "execution_count": 2,
     "metadata": {},
     "output_type": "execute_result"
    }
   ],
   "source": [
    "def outer_func(y):\n",
    "    # 下面时闭包\n",
    "    def inner_func(x):\n",
    "        return x + y\n",
    "    \n",
    "    return inner_func\n",
    "\n",
    "c_func = outer_func(2)\n",
    "print(c_func)\n",
    "c_func(3)"
   ]
  },
  {
   "cell_type": "code",
   "execution_count": null,
   "id": "3a0cd1b8",
   "metadata": {},
   "outputs": [],
   "source": []
  }
 ],
 "metadata": {
  "kernelspec": {
   "display_name": "Python 3 (ipykernel)",
   "language": "python",
   "name": "python3"
  },
  "language_info": {
   "codemirror_mode": {
    "name": "ipython",
    "version": 3
   },
   "file_extension": ".py",
   "mimetype": "text/x-python",
   "name": "python",
   "nbconvert_exporter": "python",
   "pygments_lexer": "ipython3",
   "version": "3.11.4"
  }
 },
 "nbformat": 4,
 "nbformat_minor": 5
}
